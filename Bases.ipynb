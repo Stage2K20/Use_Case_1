{
 "cells": [
  {
   "cell_type": "markdown",
   "metadata": {},
   "source": [
    "# TD1 : Variables, types de base, fonctions d’entrée et de sortie"
   ]
  },
  {
   "cell_type": "markdown",
   "metadata": {},
   "source": [
    "#### Exercice 1 (les nombres : types int et float)."
   ]
  },
  {
   "cell_type": "code",
   "execution_count": 1,
   "metadata": {},
   "outputs": [],
   "source": [
    "x = 1"
   ]
  },
  {
   "cell_type": "code",
   "execution_count": 2,
   "metadata": {},
   "outputs": [
    {
     "data": {
      "text/plain": [
       "1"
      ]
     },
     "execution_count": 2,
     "metadata": {},
     "output_type": "execute_result"
    }
   ],
   "source": [
    "x"
   ]
  },
  {
   "cell_type": "code",
   "execution_count": 3,
   "metadata": {},
   "outputs": [],
   "source": [
    "y = 2"
   ]
  },
  {
   "cell_type": "code",
   "execution_count": 4,
   "metadata": {},
   "outputs": [],
   "source": [
    "z = 3"
   ]
  },
  {
   "cell_type": "code",
   "execution_count": 5,
   "metadata": {},
   "outputs": [
    {
     "data": {
      "text/plain": [
       "3"
      ]
     },
     "execution_count": 5,
     "metadata": {},
     "output_type": "execute_result"
    }
   ],
   "source": [
    "x+y"
   ]
  },
  {
   "cell_type": "code",
   "execution_count": 6,
   "metadata": {},
   "outputs": [
    {
     "data": {
      "text/plain": [
       "8"
      ]
     },
     "execution_count": 6,
     "metadata": {},
     "output_type": "execute_result"
    }
   ],
   "source": [
    "y**z"
   ]
  },
  {
   "cell_type": "markdown",
   "metadata": {},
   "source": [
    "#### Exercice 2 (les chaînes de caractères : type string)."
   ]
  },
  {
   "cell_type": "code",
   "execution_count": 7,
   "metadata": {},
   "outputs": [],
   "source": [
    "s = \"bienvenue\""
   ]
  },
  {
   "cell_type": "code",
   "execution_count": 8,
   "metadata": {},
   "outputs": [
    {
     "data": {
      "text/plain": [
       "'bienvenue'"
      ]
     },
     "execution_count": 8,
     "metadata": {},
     "output_type": "execute_result"
    }
   ],
   "source": [
    "s"
   ]
  },
  {
   "cell_type": "code",
   "execution_count": 9,
   "metadata": {},
   "outputs": [],
   "source": [
    "t = \"nanterre\""
   ]
  },
  {
   "cell_type": "code",
   "execution_count": 10,
   "metadata": {},
   "outputs": [
    {
     "data": {
      "text/plain": [
       "'nanterre'"
      ]
     },
     "execution_count": 10,
     "metadata": {},
     "output_type": "execute_result"
    }
   ],
   "source": [
    "t"
   ]
  },
  {
   "cell_type": "code",
   "execution_count": 11,
   "metadata": {},
   "outputs": [
    {
     "data": {
      "text/plain": [
       "'bienvenuenanterre'"
      ]
     },
     "execution_count": 11,
     "metadata": {},
     "output_type": "execute_result"
    }
   ],
   "source": [
    "s + t"
   ]
  },
  {
   "cell_type": "code",
   "execution_count": 12,
   "metadata": {},
   "outputs": [
    {
     "data": {
      "text/plain": [
       "'bienvenuebienvenuebienvenue'"
      ]
     },
     "execution_count": 12,
     "metadata": {},
     "output_type": "execute_result"
    }
   ],
   "source": [
    "s*z"
   ]
  },
  {
   "cell_type": "code",
   "execution_count": 13,
   "metadata": {},
   "outputs": [
    {
     "data": {
      "text/plain": [
       "'n'"
      ]
     },
     "execution_count": 13,
     "metadata": {},
     "output_type": "execute_result"
    }
   ],
   "source": [
    "s[z]"
   ]
  },
  {
   "cell_type": "code",
   "execution_count": 14,
   "metadata": {},
   "outputs": [
    {
     "data": {
      "text/plain": [
       "'n'"
      ]
     },
     "execution_count": 14,
     "metadata": {},
     "output_type": "execute_result"
    }
   ],
   "source": [
    "s[-z]"
   ]
  },
  {
   "cell_type": "code",
   "execution_count": 15,
   "metadata": {},
   "outputs": [
    {
     "data": {
      "text/plain": [
       "'ie'"
      ]
     },
     "execution_count": 15,
     "metadata": {},
     "output_type": "execute_result"
    }
   ],
   "source": [
    "s[x:z]"
   ]
  },
  {
   "cell_type": "code",
   "execution_count": 16,
   "metadata": {},
   "outputs": [
    {
     "data": {
      "text/plain": [
       "9"
      ]
     },
     "execution_count": 16,
     "metadata": {},
     "output_type": "execute_result"
    }
   ],
   "source": [
    "len(s)"
   ]
  },
  {
   "cell_type": "markdown",
   "metadata": {},
   "source": [
    "#### Exercice 3 (les Booléens : type bool)."
   ]
  },
  {
   "cell_type": "code",
   "execution_count": 17,
   "metadata": {},
   "outputs": [
    {
     "data": {
      "text/plain": [
       "False"
      ]
     },
     "execution_count": 17,
     "metadata": {},
     "output_type": "execute_result"
    }
   ],
   "source": [
    "y>z"
   ]
  },
  {
   "cell_type": "markdown",
   "metadata": {},
   "source": [
    "#### Exercice 4 (Chaînes de caractères)."
   ]
  },
  {
   "cell_type": "code",
   "execution_count": 18,
   "metadata": {},
   "outputs": [],
   "source": [
    "prenom = \"amelia\""
   ]
  },
  {
   "cell_type": "code",
   "execution_count": 19,
   "metadata": {},
   "outputs": [],
   "source": [
    "nom = \"pereira\""
   ]
  },
  {
   "cell_type": "code",
   "execution_count": 20,
   "metadata": {},
   "outputs": [],
   "source": [
    "nom_complet = 'amelia pereira'"
   ]
  },
  {
   "cell_type": "code",
   "execution_count": 21,
   "metadata": {},
   "outputs": [
    {
     "data": {
      "text/plain": [
       "'amelia pereira'"
      ]
     },
     "execution_count": 21,
     "metadata": {},
     "output_type": "execute_result"
    }
   ],
   "source": [
    "nom_complet"
   ]
  },
  {
   "cell_type": "code",
   "execution_count": 22,
   "metadata": {},
   "outputs": [
    {
     "data": {
      "text/plain": [
       "'amelia pereiraamelia pereiraamelia pereiraamelia pereiraamelia pereiraamelia pereiraamelia pereiraamelia pereiraamelia pereiraamelia pereiraamelia pereiraamelia pereiraamelia pereiraamelia pereiraamelia pereiraamelia pereiraamelia pereiraamelia pereiraamelia pereiraamelia pereiraamelia pereiraamelia pereiraamelia pereiraamelia pereiraamelia pereiraamelia pereiraamelia pereiraamelia pereiraamelia pereiraamelia pereiraamelia pereiraamelia pereiraamelia pereiraamelia pereiraamelia pereiraamelia pereiraamelia pereiraamelia pereiraamelia pereiraamelia pereiraamelia pereiraamelia pereiraamelia pereiraamelia pereiraamelia pereiraamelia pereiraamelia pereiraamelia pereiraamelia pereiraamelia pereiraamelia pereiraamelia pereiraamelia pereiraamelia pereiraamelia pereiraamelia pereiraamelia pereiraamelia pereiraamelia pereiraamelia pereiraamelia pereiraamelia pereiraamelia pereiraamelia pereiraamelia pereiraamelia pereiraamelia pereiraamelia pereiraamelia pereiraamelia pereiraamelia pereiraamelia pereiraamelia pereiraamelia pereiraamelia pereiraamelia pereiraamelia pereiraamelia pereiraamelia pereiraamelia pereiraamelia pereiraamelia pereiraamelia pereiraamelia pereiraamelia pereiraamelia pereiraamelia pereiraamelia pereiraamelia pereiraamelia pereiraamelia pereiraamelia pereiraamelia pereiraamelia pereiraamelia pereiraamelia pereiraamelia pereiraamelia pereiraamelia pereiraamelia pereira'"
      ]
     },
     "execution_count": 22,
     "metadata": {},
     "output_type": "execute_result"
    }
   ],
   "source": [
    "nom_complet * 100"
   ]
  },
  {
   "cell_type": "code",
   "execution_count": 23,
   "metadata": {},
   "outputs": [],
   "source": [
    "initiales = nom_complet[0], nom_complet[7]"
   ]
  },
  {
   "cell_type": "code",
   "execution_count": 24,
   "metadata": {},
   "outputs": [
    {
     "data": {
      "text/plain": [
       "('a', 'p')"
      ]
     },
     "execution_count": 24,
     "metadata": {},
     "output_type": "execute_result"
    }
   ],
   "source": [
    "initiales"
   ]
  },
  {
   "cell_type": "code",
   "execution_count": 25,
   "metadata": {},
   "outputs": [
    {
     "data": {
      "text/plain": [
       "'aaaaaaaaaaaaaaaaaaaaaaaaaaaaaaaaaaaaaaaaaaaaaaaaaaaaaaaaaaaaaaaaaaaaaaaaaaaaaaaaaaaaaaaaaaaaaaaaaaaa'"
      ]
     },
     "execution_count": 25,
     "metadata": {},
     "output_type": "execute_result"
    }
   ],
   "source": [
    "nom_complet[0]*100"
   ]
  },
  {
   "cell_type": "code",
   "execution_count": 26,
   "metadata": {},
   "outputs": [
    {
     "data": {
      "text/plain": [
       "'pppppppppppppppppppppppppppppppppppppppppppppppppppppppppppppppppppppppppppppppppppppppppppppppppppp'"
      ]
     },
     "execution_count": 26,
     "metadata": {},
     "output_type": "execute_result"
    }
   ],
   "source": [
    "nom_complet[7]*100"
   ]
  },
  {
   "cell_type": "markdown",
   "metadata": {},
   "source": [
    "#### Exercice 5 (Chaînes de caractères)."
   ]
  },
  {
   "cell_type": "code",
   "execution_count": 27,
   "metadata": {},
   "outputs": [
    {
     "name": "stdout",
     "output_type": "stream",
     "text": [
      "Quel est votre prenom? :amelia\n"
     ]
    }
   ],
   "source": [
    "prenom = input(\"Quel est votre prenom? :\")"
   ]
  },
  {
   "cell_type": "code",
   "execution_count": 28,
   "metadata": {},
   "outputs": [
    {
     "name": "stdout",
     "output_type": "stream",
     "text": [
      "amelia\n"
     ]
    }
   ],
   "source": [
    "print(prenom)"
   ]
  },
  {
   "cell_type": "code",
   "execution_count": 29,
   "metadata": {},
   "outputs": [
    {
     "name": "stdout",
     "output_type": "stream",
     "text": [
      "Quel est votre nom? :pereira\n"
     ]
    }
   ],
   "source": [
    "nom = input(\"Quel est votre nom? :\")"
   ]
  },
  {
   "cell_type": "code",
   "execution_count": 30,
   "metadata": {},
   "outputs": [
    {
     "name": "stdout",
     "output_type": "stream",
     "text": [
      "pereira\n"
     ]
    }
   ],
   "source": [
    "print(nom)"
   ]
  },
  {
   "cell_type": "code",
   "execution_count": 31,
   "metadata": {},
   "outputs": [
    {
     "name": "stdout",
     "output_type": "stream",
     "text": [
      "amelia pereira\n",
      "('a', 'p')\n"
     ]
    }
   ],
   "source": [
    "print (prenom, nom)\n",
    "print (initiales)"
   ]
  },
  {
   "cell_type": "code",
   "execution_count": 32,
   "metadata": {},
   "outputs": [
    {
     "name": "stdout",
     "output_type": "stream",
     "text": [
      "Premiere lettre du nom de famile :p\n"
     ]
    }
   ],
   "source": [
    "nominitiale = input(\"Premiere lettre du nom de famile :\")"
   ]
  },
  {
   "cell_type": "code",
   "execution_count": 33,
   "metadata": {},
   "outputs": [
    {
     "data": {
      "text/plain": [
       "'p'"
      ]
     },
     "execution_count": 33,
     "metadata": {},
     "output_type": "execute_result"
    }
   ],
   "source": [
    "nominitiale"
   ]
  },
  {
   "cell_type": "markdown",
   "metadata": {},
   "source": [
    "#### Exercice 6 (int et float)."
   ]
  },
  {
   "cell_type": "code",
   "execution_count": 34,
   "metadata": {},
   "outputs": [],
   "source": [
    "celsius = 37.5"
   ]
  },
  {
   "cell_type": "code",
   "execution_count": 35,
   "metadata": {},
   "outputs": [
    {
     "name": "stdout",
     "output_type": "stream",
     "text": [
      "37.5 degree Celsius is equal to 99.5 degree Fahrenheit\n"
     ]
    }
   ],
   "source": [
    "fahrenheit = (celsius * 1.8) + 32\n",
    "print('%0.1f degree Celsius is equal to %0.1f degree Fahrenheit' %(celsius,fahrenheit))"
   ]
  },
  {
   "cell_type": "code",
   "execution_count": 36,
   "metadata": {},
   "outputs": [
    {
     "name": "stdout",
     "output_type": "stream",
     "text": [
      "99.5 degree Celsius is equal to 37.5 degree Fahrenheit\n"
     ]
    }
   ],
   "source": [
    "celsius = (fahrenheit - 32) / 1.8\n",
    "print('%0.1f degree Celsius is equal to %0.1f degree Fahrenheit' %(fahrenheit,celsius))"
   ]
  },
  {
   "cell_type": "markdown",
   "metadata": {},
   "source": [
    "#### Exercice 7 (Booléens)."
   ]
  },
  {
   "cell_type": "code",
   "execution_count": 37,
   "metadata": {},
   "outputs": [],
   "source": [
    "A = y>x\n",
    "B = y<x\n",
    "C = z>x"
   ]
  },
  {
   "cell_type": "code",
   "execution_count": 38,
   "metadata": {},
   "outputs": [
    {
     "data": {
      "text/plain": [
       "(True, False, True)"
      ]
     },
     "execution_count": 38,
     "metadata": {},
     "output_type": "execute_result"
    }
   ],
   "source": [
    "A, B,C"
   ]
  },
  {
   "cell_type": "code",
   "execution_count": 39,
   "metadata": {},
   "outputs": [
    {
     "data": {
      "text/plain": [
       "False"
      ]
     },
     "execution_count": 39,
     "metadata": {},
     "output_type": "execute_result"
    }
   ],
   "source": [
    "A == B"
   ]
  },
  {
   "cell_type": "code",
   "execution_count": 40,
   "metadata": {},
   "outputs": [
    {
     "ename": "SyntaxError",
     "evalue": "invalid syntax (<ipython-input-40-2fc8ea05497d>, line 1)",
     "output_type": "error",
     "traceback": [
      "\u001b[0;36m  File \u001b[0;32m\"<ipython-input-40-2fc8ea05497d>\"\u001b[0;36m, line \u001b[0;32m1\u001b[0m\n\u001b[0;31m    if Reponse = 'o'\u001b[0m\n\u001b[0m               ^\u001b[0m\n\u001b[0;31mSyntaxError\u001b[0m\u001b[0;31m:\u001b[0m invalid syntax\n"
     ]
    }
   ],
   "source": [
    "if Reponse = 'o'\n",
    "   then Put(\"Vous avez bien de la chance. \") ; \n",
    "   else Put(\"Ah… Dommage.\") ;\n",
    "end if ;"
   ]
  },
  {
   "cell_type": "markdown",
   "metadata": {},
   "source": [
    "# TD 2 : Types de données"
   ]
  },
  {
   "cell_type": "markdown",
   "metadata": {},
   "source": [
    "#### Exercice 1 (chaînes de caractères)."
   ]
  },
  {
   "cell_type": "code",
   "execution_count": 41,
   "metadata": {},
   "outputs": [],
   "source": [
    "c = \"X44bf38j23jdjgfjh737nei47\""
   ]
  },
  {
   "cell_type": "code",
   "execution_count": 42,
   "metadata": {},
   "outputs": [
    {
     "data": {
      "text/plain": [
       "'X44bf38j23jdjgfjh737nei47'"
      ]
     },
     "execution_count": 42,
     "metadata": {},
     "output_type": "execute_result"
    }
   ],
   "source": [
    "c"
   ]
  },
  {
   "cell_type": "code",
   "execution_count": 43,
   "metadata": {},
   "outputs": [],
   "source": [
    "res1 = \"\" \n",
    "for i in c: \n",
    "    if i.isalpha(): \n",
    "        res1 = \"\".join([res1, i]) "
   ]
  },
  {
   "cell_type": "code",
   "execution_count": 44,
   "metadata": {},
   "outputs": [
    {
     "name": "stdout",
     "output_type": "stream",
     "text": [
      "c_alpha:  Xbfjjdjgfjhnei\n"
     ]
    }
   ],
   "source": [
    "print (\"c_alpha: \", str(res1)) "
   ]
  },
  {
   "cell_type": "code",
   "execution_count": 45,
   "metadata": {},
   "outputs": [],
   "source": [
    "res2 = \"\" \n",
    "for i in c: \n",
    "    if i.isdigit(): \n",
    "        res2 = \"\".join([res2, i]) "
   ]
  },
  {
   "cell_type": "code",
   "execution_count": 46,
   "metadata": {},
   "outputs": [
    {
     "name": "stdout",
     "output_type": "stream",
     "text": [
      "c_digit:  44382373747\n"
     ]
    }
   ],
   "source": [
    "print (\"c_digit: \", str(res2)) "
   ]
  },
  {
   "cell_type": "code",
   "execution_count": 47,
   "metadata": {},
   "outputs": [],
   "source": [
    "c_digit = 44382373747"
   ]
  },
  {
   "cell_type": "code",
   "execution_count": 48,
   "metadata": {},
   "outputs": [
    {
     "ename": "NameError",
     "evalue": "name 'Xbfjjdjgfjhnei' is not defined",
     "output_type": "error",
     "traceback": [
      "\u001b[0;31m---------------------------------------------------------------------------\u001b[0m",
      "\u001b[0;31mNameError\u001b[0m                                 Traceback (most recent call last)",
      "\u001b[0;32m<ipython-input-48-68cf68e47f95>\u001b[0m in \u001b[0;36m<module>\u001b[0;34m\u001b[0m\n\u001b[0;32m----> 1\u001b[0;31m \u001b[0mc_alpha\u001b[0m \u001b[0;34m=\u001b[0m \u001b[0mXbfjjdjgfjhnei\u001b[0m\u001b[0;34m\u001b[0m\u001b[0;34m\u001b[0m\u001b[0m\n\u001b[0m",
      "\u001b[0;31mNameError\u001b[0m: name 'Xbfjjdjgfjhnei' is not defined"
     ]
    }
   ],
   "source": [
    "c_alpha = Xbfjjdjgfjhnei"
   ]
  },
  {
   "cell_type": "code",
   "execution_count": 49,
   "metadata": {},
   "outputs": [
    {
     "name": "stdout",
     "output_type": "stream",
     "text": [
      "C is alphanumeric\n"
     ]
    }
   ],
   "source": [
    "if c.isalnum():\n",
    "    print (\"C is alphanumeric\")\n",
    "elif c.isalpha():\n",
    "    print (\"C is alpha\")\n",
    "elif c.isdigit():\n",
    "    print (\"C is numeric\")\n",
    "else:\n",
    "    print (\"No Idea what C is\")"
   ]
  },
  {
   "cell_type": "code",
   "execution_count": 50,
   "metadata": {},
   "outputs": [
    {
     "ename": "NameError",
     "evalue": "name 'c_alpha' is not defined",
     "output_type": "error",
     "traceback": [
      "\u001b[0;31m---------------------------------------------------------------------------\u001b[0m",
      "\u001b[0;31mNameError\u001b[0m                                 Traceback (most recent call last)",
      "\u001b[0;32m<ipython-input-50-3d2ebf8c2cba>\u001b[0m in \u001b[0;36m<module>\u001b[0;34m\u001b[0m\n\u001b[0;32m----> 1\u001b[0;31m \u001b[0;32mif\u001b[0m \u001b[0mc_alpha\u001b[0m\u001b[0;34m.\u001b[0m\u001b[0misalnum\u001b[0m\u001b[0;34m(\u001b[0m\u001b[0;34m)\u001b[0m\u001b[0;34m:\u001b[0m\u001b[0;34m\u001b[0m\u001b[0;34m\u001b[0m\u001b[0m\n\u001b[0m\u001b[1;32m      2\u001b[0m     \u001b[0mprint\u001b[0m \u001b[0;34m(\u001b[0m\u001b[0;34m\"c_alpha is alphanumeric\"\u001b[0m\u001b[0;34m)\u001b[0m\u001b[0;34m\u001b[0m\u001b[0;34m\u001b[0m\u001b[0m\n\u001b[1;32m      3\u001b[0m \u001b[0;32melif\u001b[0m \u001b[0mc_alpha\u001b[0m\u001b[0;34m.\u001b[0m\u001b[0misalpha\u001b[0m\u001b[0;34m(\u001b[0m\u001b[0;34m)\u001b[0m\u001b[0;34m:\u001b[0m\u001b[0;34m\u001b[0m\u001b[0;34m\u001b[0m\u001b[0m\n\u001b[1;32m      4\u001b[0m     \u001b[0mprint\u001b[0m \u001b[0;34m(\u001b[0m\u001b[0;34m\"c_alpha is alpha\"\u001b[0m\u001b[0;34m)\u001b[0m\u001b[0;34m\u001b[0m\u001b[0;34m\u001b[0m\u001b[0m\n\u001b[1;32m      5\u001b[0m \u001b[0;32melif\u001b[0m \u001b[0mc_alpha\u001b[0m\u001b[0;34m.\u001b[0m\u001b[0misdigit\u001b[0m\u001b[0;34m(\u001b[0m\u001b[0;34m)\u001b[0m\u001b[0;34m:\u001b[0m\u001b[0;34m\u001b[0m\u001b[0;34m\u001b[0m\u001b[0m\n",
      "\u001b[0;31mNameError\u001b[0m: name 'c_alpha' is not defined"
     ]
    }
   ],
   "source": [
    "if c_alpha.isalnum():\n",
    "    print (\"c_alpha is alphanumeric\")\n",
    "elif c_alpha.isalpha():\n",
    "    print (\"c_alpha is alpha\")\n",
    "elif c_alpha.isdigit():\n",
    "    print (\"c_alpha is numeric\")\n",
    "else:\n",
    "    print (\"No Idea what c_alpha is\")"
   ]
  },
  {
   "cell_type": "code",
   "execution_count": 51,
   "metadata": {},
   "outputs": [
    {
     "ename": "AttributeError",
     "evalue": "'int' object has no attribute 'isalnum'",
     "output_type": "error",
     "traceback": [
      "\u001b[0;31m---------------------------------------------------------------------------\u001b[0m",
      "\u001b[0;31mAttributeError\u001b[0m                            Traceback (most recent call last)",
      "\u001b[0;32m<ipython-input-51-9e74427dfe9b>\u001b[0m in \u001b[0;36m<module>\u001b[0;34m\u001b[0m\n\u001b[0;32m----> 1\u001b[0;31m \u001b[0;32mif\u001b[0m \u001b[0mc_digit\u001b[0m\u001b[0;34m.\u001b[0m\u001b[0misalnum\u001b[0m\u001b[0;34m(\u001b[0m\u001b[0;34m)\u001b[0m\u001b[0;34m:\u001b[0m\u001b[0;34m\u001b[0m\u001b[0;34m\u001b[0m\u001b[0m\n\u001b[0m\u001b[1;32m      2\u001b[0m     \u001b[0mprint\u001b[0m \u001b[0;34m(\u001b[0m\u001b[0;34m\"c_digit is alphanumeric\"\u001b[0m\u001b[0;34m)\u001b[0m\u001b[0;34m\u001b[0m\u001b[0;34m\u001b[0m\u001b[0m\n\u001b[1;32m      3\u001b[0m \u001b[0;32melif\u001b[0m \u001b[0mc_digit\u001b[0m\u001b[0;34m.\u001b[0m\u001b[0misalpha\u001b[0m\u001b[0;34m(\u001b[0m\u001b[0;34m)\u001b[0m\u001b[0;34m:\u001b[0m\u001b[0;34m\u001b[0m\u001b[0;34m\u001b[0m\u001b[0m\n\u001b[1;32m      4\u001b[0m     \u001b[0mprint\u001b[0m \u001b[0;34m(\u001b[0m\u001b[0;34m\"c_digit is alpha\"\u001b[0m\u001b[0;34m)\u001b[0m\u001b[0;34m\u001b[0m\u001b[0;34m\u001b[0m\u001b[0m\n\u001b[1;32m      5\u001b[0m \u001b[0;32melif\u001b[0m \u001b[0mc_digit\u001b[0m\u001b[0;34m.\u001b[0m\u001b[0misdigit\u001b[0m\u001b[0;34m(\u001b[0m\u001b[0;34m)\u001b[0m\u001b[0;34m:\u001b[0m\u001b[0;34m\u001b[0m\u001b[0;34m\u001b[0m\u001b[0m\n",
      "\u001b[0;31mAttributeError\u001b[0m: 'int' object has no attribute 'isalnum'"
     ]
    }
   ],
   "source": [
    "if c_digit.isalnum():\n",
    "    print (\"c_digit is alphanumeric\")\n",
    "elif c_digit.isalpha():\n",
    "    print (\"c_digit is alpha\")\n",
    "elif c_digit.isdigit():\n",
    "    print (\"c_digit is numeric\")\n",
    "else:\n",
    "    print (\"No Idea what c_digit is\")"
   ]
  },
  {
   "cell_type": "code",
   "execution_count": 52,
   "metadata": {},
   "outputs": [
    {
     "data": {
      "text/plain": [
       "True"
      ]
     },
     "execution_count": 52,
     "metadata": {},
     "output_type": "execute_result"
    }
   ],
   "source": [
    "\"c\".isalpha()"
   ]
  },
  {
   "cell_type": "code",
   "execution_count": 53,
   "metadata": {},
   "outputs": [
    {
     "data": {
      "text/plain": [
       "False"
      ]
     },
     "execution_count": 53,
     "metadata": {},
     "output_type": "execute_result"
    }
   ],
   "source": [
    "\"c\".isdigit()"
   ]
  },
  {
   "cell_type": "code",
   "execution_count": 54,
   "metadata": {},
   "outputs": [
    {
     "data": {
      "text/plain": [
       "False"
      ]
     },
     "execution_count": 54,
     "metadata": {},
     "output_type": "execute_result"
    }
   ],
   "source": [
    "\"c_digit\".isalpha()"
   ]
  },
  {
   "cell_type": "code",
   "execution_count": 55,
   "metadata": {},
   "outputs": [
    {
     "data": {
      "text/plain": [
       "False"
      ]
     },
     "execution_count": 55,
     "metadata": {},
     "output_type": "execute_result"
    }
   ],
   "source": [
    "\"c_digit\".isdigit()"
   ]
  },
  {
   "cell_type": "code",
   "execution_count": 56,
   "metadata": {},
   "outputs": [
    {
     "name": "stdout",
     "output_type": "stream",
     "text": [
      "Substring 'j23' found at index: 7\n"
     ]
    }
   ],
   "source": [
    "result = c.find('j23') \n",
    "print (\"Substring 'j23' found at index:\", result ) "
   ]
  },
  {
   "cell_type": "code",
   "execution_count": 57,
   "metadata": {},
   "outputs": [
    {
     "name": "stdout",
     "output_type": "stream",
     "text": [
      "j23\n"
     ]
    }
   ],
   "source": [
    "if c.find(\"j23\"):\n",
    "    print (\"j23\")\n",
    "elif c.replace():\n",
    "    print (\"j24\")"
   ]
  },
  {
   "cell_type": "code",
   "execution_count": 58,
   "metadata": {},
   "outputs": [
    {
     "name": "stdout",
     "output_type": "stream",
     "text": [
      "Substring 'f' found at index: 4\n"
     ]
    }
   ],
   "source": [
    "result = c.find('f') \n",
    "print (\"Substring 'f' found at index:\", result ) "
   ]
  },
  {
   "cell_type": "code",
   "execution_count": 59,
   "metadata": {},
   "outputs": [
    {
     "name": "stdout",
     "output_type": "stream",
     "text": [
      "Substring '3' found at index: 5\n"
     ]
    }
   ],
   "source": [
    "result = c.find('3') \n",
    "print (\"Substring '3' found at index:\", result ) "
   ]
  },
  {
   "cell_type": "code",
   "execution_count": 60,
   "metadata": {},
   "outputs": [
    {
     "name": "stdout",
     "output_type": "stream",
     "text": [
      "Substring '7' found at index: 17\n"
     ]
    }
   ],
   "source": [
    "result = c.find('7') \n",
    "print (\"Substring '7' found at index:\", result ) "
   ]
  },
  {
   "cell_type": "markdown",
   "metadata": {},
   "source": [
    "#### Exercice 2 (chaînes de caractères)."
   ]
  },
  {
   "cell_type": "code",
   "execution_count": 61,
   "metadata": {},
   "outputs": [],
   "source": [
    "#2.1. "
   ]
  },
  {
   "cell_type": "code",
   "execution_count": 62,
   "metadata": {},
   "outputs": [],
   "source": [
    "texte = \"We introduce here the Python language\""
   ]
  },
  {
   "cell_type": "code",
   "execution_count": 63,
   "metadata": {
    "scrolled": true
   },
   "outputs": [
    {
     "data": {
      "text/plain": [
       "'We introduce here the Python language'"
      ]
     },
     "execution_count": 63,
     "metadata": {},
     "output_type": "execute_result"
    }
   ],
   "source": [
    "texte"
   ]
  },
  {
   "cell_type": "code",
   "execution_count": 64,
   "metadata": {},
   "outputs": [
    {
     "data": {
      "text/plain": [
       "37"
      ]
     },
     "execution_count": 64,
     "metadata": {},
     "output_type": "execute_result"
    }
   ],
   "source": [
    "len(texte)"
   ]
  },
  {
   "cell_type": "code",
   "execution_count": 65,
   "metadata": {},
   "outputs": [
    {
     "name": "stdout",
     "output_type": "stream",
     "text": [
      "37\n"
     ]
    }
   ],
   "source": [
    "count = 0 \n",
    "current = \"\" \n",
    "for i in \"We introduce here the Python language\":\n",
    "    count += 1\n",
    "    current += i\n",
    "    if current == \"We introduce here the Python language\":\n",
    "        print(count) "
   ]
  },
  {
   "cell_type": "code",
   "execution_count": 66,
   "metadata": {},
   "outputs": [
    {
     "name": "stdout",
     "output_type": "stream",
     "text": [
      "Total number of characters in a string: 32\n"
     ]
    }
   ],
   "source": [
    "texte= \"We introduce here the Python language\"\n",
    "count = 0;  \n",
    "   \n",
    "#Counts each character except space  \n",
    "for i in range(0, len(texte)):  \n",
    "    if(texte[i] != ' '):  \n",
    "        count = count + 1;  \n",
    "   \n",
    "#Displays the total number of characters present in the given string  \n",
    "print(\"Total number of characters in a string: \" + str(count));  "
   ]
  },
  {
   "cell_type": "code",
   "execution_count": 67,
   "metadata": {},
   "outputs": [
    {
     "name": "stdout",
     "output_type": "stream",
     "text": [
      "String to search is : \n",
      "Total Number of Words in our input string is:  1\n"
     ]
    }
   ],
   "source": [
    "test_texte = input(\"String to search is : \")\n",
    "total = 1\n",
    "\n",
    "for i in range(len(test_texte)):\n",
    "   if(test_texte[i] == ' ' or test_texte == '\\n' or test_texte == '\\t'):\n",
    "      total = total + 1\n",
    "\n",
    "print(\"Total Number of Words in our input string is: \", total)"
   ]
  },
  {
   "cell_type": "code",
   "execution_count": 68,
   "metadata": {},
   "outputs": [],
   "source": [
    "#2.2. "
   ]
  },
  {
   "cell_type": "code",
   "execution_count": 69,
   "metadata": {},
   "outputs": [],
   "source": [
    "texte2 = \"We introduce here the Python language. To learn more about the language, consider going through the excellent tutorial https://docs.python.org/ tutorial. Dedicated books are also available, such as http://www.diveintopython.net/.\""
   ]
  },
  {
   "cell_type": "code",
   "execution_count": 70,
   "metadata": {
    "scrolled": true
   },
   "outputs": [
    {
     "data": {
      "text/plain": [
       "'We introduce here the Python language. To learn more about the language, consider going through the excellent tutorial https://docs.python.org/ tutorial. Dedicated books are also available, such as http://www.diveintopython.net/.'"
      ]
     },
     "execution_count": 70,
     "metadata": {},
     "output_type": "execute_result"
    }
   ],
   "source": [
    "texte2"
   ]
  },
  {
   "cell_type": "code",
   "execution_count": 71,
   "metadata": {},
   "outputs": [
    {
     "name": "stdout",
     "output_type": "stream",
     "text": [
      "String to search is : \n",
      "Total Number of Words in our input string is:  1\n"
     ]
    }
   ],
   "source": [
    "test_texte2 = input(\"String to search is : \")\n",
    "total = 1\n",
    "\n",
    "for i in range(len(test_texte2)):\n",
    "   if(test_texte2[i] == ' ' or test_texte2 == '\\n' or test_texte2 == '\\t'):\n",
    "      total = total + 1\n",
    "\n",
    "print(\"Total Number of Words in our input string is: \", total)"
   ]
  },
  {
   "cell_type": "markdown",
   "metadata": {},
   "source": [
    "#### Exercice 3 (Listes)."
   ]
  },
  {
   "cell_type": "code",
   "execution_count": 72,
   "metadata": {},
   "outputs": [],
   "source": [
    "#3.1. "
   ]
  },
  {
   "cell_type": "code",
   "execution_count": 73,
   "metadata": {},
   "outputs": [],
   "source": [
    "liste = [\"pays\", \"ville\"]"
   ]
  },
  {
   "cell_type": "code",
   "execution_count": 74,
   "metadata": {},
   "outputs": [],
   "source": [
    "liste.append(\"departement\")"
   ]
  },
  {
   "cell_type": "code",
   "execution_count": 75,
   "metadata": {},
   "outputs": [
    {
     "data": {
      "text/plain": [
       "['pays', 'ville', 'departement']"
      ]
     },
     "execution_count": 75,
     "metadata": {},
     "output_type": "execute_result"
    }
   ],
   "source": [
    "liste"
   ]
  },
  {
   "cell_type": "code",
   "execution_count": 76,
   "metadata": {},
   "outputs": [],
   "source": [
    "liste.sort()"
   ]
  },
  {
   "cell_type": "code",
   "execution_count": 77,
   "metadata": {},
   "outputs": [
    {
     "data": {
      "text/plain": [
       "['departement', 'pays', 'ville']"
      ]
     },
     "execution_count": 77,
     "metadata": {},
     "output_type": "execute_result"
    }
   ],
   "source": [
    "liste"
   ]
  },
  {
   "cell_type": "code",
   "execution_count": 78,
   "metadata": {},
   "outputs": [],
   "source": [
    "#3.2. "
   ]
  },
  {
   "cell_type": "code",
   "execution_count": 86,
   "metadata": {},
   "outputs": [
    {
     "name": "stdout",
     "output_type": "stream",
     "text": [
      "departement\n",
      "pays\n",
      "ville\n"
     ]
    }
   ],
   "source": [
    "for i in liste:\n",
    "...     if i == \"fin\":\n",
    "...             print(\"On stoppe la boucle\")\n",
    "                 break\n",
    "...     print(i)"
   ]
  },
  {
   "cell_type": "markdown",
   "metadata": {},
   "source": [
    "#### Exercice 4 (Listes)."
   ]
  },
  {
   "cell_type": "code",
   "execution_count": 204,
   "metadata": {},
   "outputs": [],
   "source": [
    "couleurs = [\"Pique\", \"Trefle\", \"Carreau\", \"Coeur\"]"
   ]
  },
  {
   "cell_type": "code",
   "execution_count": 205,
   "metadata": {},
   "outputs": [],
   "source": [
    "valeurs = [2, 3, 4, 5, 6, 7, 8, 9, 10, \"valet\", \"dame\", \"roi\", \"as\"]"
   ]
  },
  {
   "cell_type": "code",
   "execution_count": 206,
   "metadata": {},
   "outputs": [],
   "source": [
    "cartes = []"
   ]
  },
  {
   "cell_type": "code",
   "execution_count": 207,
   "metadata": {},
   "outputs": [],
   "source": [
    "#4.1. "
   ]
  },
  {
   "cell_type": "code",
   "execution_count": 211,
   "metadata": {},
   "outputs": [
    {
     "data": {
      "text/plain": [
       "['Pique 2',\n",
       " 'Pique 3',\n",
       " 'Pique 4',\n",
       " 'Pique 5',\n",
       " 'Pique 6',\n",
       " 'Pique 7',\n",
       " 'Pique 8',\n",
       " 'Pique 9',\n",
       " 'Pique 10',\n",
       " 'Pique valet',\n",
       " 'Pique dame',\n",
       " 'Pique roi',\n",
       " 'Pique as',\n",
       " 'Trefle 2',\n",
       " 'Trefle 3',\n",
       " 'Trefle 4',\n",
       " 'Trefle 5',\n",
       " 'Trefle 6',\n",
       " 'Trefle 7',\n",
       " 'Trefle 8',\n",
       " 'Trefle 9',\n",
       " 'Trefle 10',\n",
       " 'Trefle valet',\n",
       " 'Trefle dame',\n",
       " 'Trefle roi',\n",
       " 'Trefle as',\n",
       " 'Carreau 2',\n",
       " 'Carreau 3',\n",
       " 'Carreau 4',\n",
       " 'Carreau 5',\n",
       " 'Carreau 6',\n",
       " 'Carreau 7',\n",
       " 'Carreau 8',\n",
       " 'Carreau 9',\n",
       " 'Carreau 10',\n",
       " 'Carreau valet',\n",
       " 'Carreau dame',\n",
       " 'Carreau roi',\n",
       " 'Carreau as',\n",
       " 'Coeur 2',\n",
       " 'Coeur 3',\n",
       " 'Coeur 4',\n",
       " 'Coeur 5',\n",
       " 'Coeur 6',\n",
       " 'Coeur 7',\n",
       " 'Coeur 8',\n",
       " 'Coeur 9',\n",
       " 'Coeur 10',\n",
       " 'Coeur valet',\n",
       " 'Coeur dame',\n",
       " 'Coeur roi',\n",
       " 'Coeur as']"
      ]
     },
     "execution_count": 211,
     "metadata": {},
     "output_type": "execute_result"
    }
   ],
   "source": [
    "cartes"
   ]
  },
  {
   "cell_type": "code",
   "execution_count": 214,
   "metadata": {},
   "outputs": [
    {
     "name": "stdout",
     "output_type": "stream",
     "text": [
      "Pique 2\n",
      "Pique 3\n",
      "Pique 4\n",
      "Pique 5\n",
      "Pique 6\n",
      "Pique 7\n",
      "Pique 8\n",
      "Pique 9\n",
      "Pique 10\n",
      "Pique valet\n",
      "Pique dame\n",
      "Pique roi\n",
      "Pique as\n",
      "Trefle 2\n",
      "Trefle 3\n",
      "Trefle 4\n",
      "Trefle 5\n",
      "Trefle 6\n",
      "Trefle 7\n",
      "Trefle 8\n",
      "Trefle 9\n",
      "Trefle 10\n",
      "Trefle valet\n",
      "Trefle dame\n",
      "Trefle roi\n",
      "Trefle as\n",
      "Carreau 2\n",
      "Carreau 3\n",
      "Carreau 4\n",
      "Carreau 5\n",
      "Carreau 6\n",
      "Carreau 7\n",
      "Carreau 8\n",
      "Carreau 9\n",
      "Carreau 10\n",
      "Carreau valet\n",
      "Carreau dame\n",
      "Carreau roi\n",
      "Carreau as\n",
      "Coeur 2\n",
      "Coeur 3\n",
      "Coeur 4\n",
      "Coeur 5\n",
      "Coeur 6\n",
      "Coeur 7\n",
      "Coeur 8\n",
      "Coeur 9\n",
      "Coeur 10\n",
      "Coeur valet\n",
      "Coeur dame\n",
      "Coeur roi\n",
      "Coeur as\n"
     ]
    }
   ],
   "source": [
    "for c in couleurs:\n",
    "    for v in valeurs:\n",
    "        print(str(c)+\" \"+str(v))\n",
    "        cartes.append(str(c)+\" \"+str(v))\n",
    "\n",
    "#print(cartes)"
   ]
  },
  {
   "cell_type": "markdown",
   "metadata": {},
   "source": [
    "#### Exercice 7 (Dictionnaires)."
   ]
  },
  {
   "cell_type": "code",
   "execution_count": 118,
   "metadata": {},
   "outputs": [],
   "source": [
    "#7.1. "
   ]
  },
  {
   "cell_type": "code",
   "execution_count": 127,
   "metadata": {},
   "outputs": [],
   "source": [
    "mon_dico = {'Visage': 'Face', 'Yeux': 'Eyes', 'Nez': 'Nose'} "
   ]
  },
  {
   "cell_type": "code",
   "execution_count": 128,
   "metadata": {},
   "outputs": [
    {
     "name": "stdout",
     "output_type": "stream",
     "text": [
      "dict_keys(['Visage', 'Yeux', 'Nez'])\n"
     ]
    }
   ],
   "source": [
    "print(mon_dico.keys()) "
   ]
  },
  {
   "cell_type": "code",
   "execution_count": 129,
   "metadata": {},
   "outputs": [],
   "source": [
    "#7.2. "
   ]
  },
  {
   "cell_type": "code",
   "execution_count": 130,
   "metadata": {},
   "outputs": [],
   "source": [
    "mon_dico.update({'Cerveau':'Brain'}) "
   ]
  },
  {
   "cell_type": "code",
   "execution_count": 131,
   "metadata": {},
   "outputs": [
    {
     "name": "stdout",
     "output_type": "stream",
     "text": [
      "dict_keys(['Visage', 'Yeux', 'Nez', 'Cerveau'])\n"
     ]
    }
   ],
   "source": [
    "print(mon_dico.keys()) "
   ]
  },
  {
   "cell_type": "code",
   "execution_count": 134,
   "metadata": {},
   "outputs": [
    {
     "data": {
      "text/plain": [
       "{'Visage': 'Face', 'Yeux': 'Eyes', 'Nez': 'Nose', 'Cerveau': 'Brain'}"
      ]
     },
     "execution_count": 134,
     "metadata": {},
     "output_type": "execute_result"
    }
   ],
   "source": [
    "mon_dico"
   ]
  },
  {
   "cell_type": "code",
   "execution_count": null,
   "metadata": {},
   "outputs": [],
   "source": [
    "#7.3. "
   ]
  },
  {
   "cell_type": "code",
   "execution_count": 144,
   "metadata": {},
   "outputs": [
    {
     "data": {
      "text/plain": [
       "'Brain'"
      ]
     },
     "execution_count": 144,
     "metadata": {},
     "output_type": "execute_result"
    }
   ],
   "source": [
    "mon_dico['Cerveau']"
   ]
  },
  {
   "cell_type": "code",
   "execution_count": 155,
   "metadata": {},
   "outputs": [
    {
     "name": "stdout",
     "output_type": "stream",
     "text": [
      "Visage -> Face\n",
      "Yeux -> Eyes\n",
      "Nez -> Nose\n",
      "Cerveau -> Brain\n"
     ]
    }
   ],
   "source": [
    "for key, value in mon_dico.items():\n",
    "...     print(key, '->', value)"
   ]
  },
  {
   "cell_type": "code",
   "execution_count": 156,
   "metadata": {},
   "outputs": [],
   "source": [
    "#7.4. "
   ]
  },
  {
   "cell_type": "code",
   "execution_count": 194,
   "metadata": {},
   "outputs": [
    {
     "name": "stdout",
     "output_type": "stream",
     "text": [
      "{'Face': ['Visage'], 'Eyes': ['Yeux'], 'Nose': ['Nez'], 'Brain': ['Cerveau']}\n"
     ]
    }
   ],
   "source": [
    "def create_mondico2(mon_dico):\n",
    "    mondico2={}\n",
    "    for key,value in mon_dico.items():\n",
    "        if value not in mondico2:\n",
    "            mondico2[value]=[key] #notice here carefully , we have to store key in list so we can append values to it in else part of condition we did `[key]` , not `key` \n",
    "        elif key not in date_dict[value[1]]:\n",
    "            mondico2[value].append(key)\n",
    "\n",
    "    return mondico2\n",
    "\n",
    "print(create_mondico2(mon_dico))"
   ]
  },
  {
   "cell_type": "code",
   "execution_count": 178,
   "metadata": {},
   "outputs": [],
   "source": [
    "#7.5. "
   ]
  },
  {
   "cell_type": "code",
   "execution_count": 198,
   "metadata": {},
   "outputs": [
    {
     "data": {
      "text/plain": [
       "['Cerveau']"
      ]
     },
     "execution_count": 198,
     "metadata": {},
     "output_type": "execute_result"
    }
   ],
   "source": [
    "(create_mondico2(mon_dico))['Brain']"
   ]
  },
  {
   "cell_type": "code",
   "execution_count": null,
   "metadata": {},
   "outputs": [],
   "source": []
  }
 ],
 "metadata": {
  "kernelspec": {
   "display_name": "Python 3",
   "language": "python",
   "name": "python3"
  },
  "language_info": {
   "codemirror_mode": {
    "name": "ipython",
    "version": 3
   },
   "file_extension": ".py",
   "mimetype": "text/x-python",
   "name": "python",
   "nbconvert_exporter": "python",
   "pygments_lexer": "ipython3",
   "version": "3.7.4"
  }
 },
 "nbformat": 4,
 "nbformat_minor": 2
}
