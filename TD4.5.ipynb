{
 "cells": [
  {
   "cell_type": "markdown",
   "metadata": {},
   "source": [
    "# TD 4 : Fonctions"
   ]
  },
  {
   "cell_type": "markdown",
   "metadata": {},
   "source": [
    "#### Exercice 1 (fonctions)."
   ]
  },
  {
   "cell_type": "code",
   "execution_count": 1,
   "metadata": {},
   "outputs": [],
   "source": [
    "#1.1."
   ]
  },
  {
   "cell_type": "code",
   "execution_count": 2,
   "metadata": {},
   "outputs": [],
   "source": [
    "from math import pi"
   ]
  },
  {
   "cell_type": "code",
   "execution_count": 3,
   "metadata": {},
   "outputs": [],
   "source": [
    "class surf_cercle:\n",
    "    def __init__(self,a,b,r):\n",
    "        self.a = a\n",
    "        self.b = b\n",
    "        self.r = r\n",
    "    \n",
    "    def surface(self):\n",
    "        return pi*self.r**2"
   ]
  },
  {
   "cell_type": "code",
   "execution_count": 4,
   "metadata": {},
   "outputs": [
    {
     "name": "stdout",
     "output_type": "stream",
     "text": [
      "la surface du cercle est  :  3.141592653589793\n"
     ]
    }
   ],
   "source": [
    "surf_cercle = surf_cercle(1,2,1)\n",
    "print(\"la surface du cercle est  : \", surf_cercle.surface())"
   ]
  },
  {
   "cell_type": "code",
   "execution_count": 5,
   "metadata": {},
   "outputs": [],
   "source": [
    "#1.2."
   ]
  },
  {
   "cell_type": "code",
   "execution_count": 6,
   "metadata": {},
   "outputs": [],
   "source": [
    "class surf_cercle:\n",
    "    def __init__(self,a,b,r):\n",
    "        self.a = a\n",
    "        self.b = b\n",
    "        self.r = r\n",
    "    \n",
    "    def surface(self):\n",
    "        return pi*self.r**2"
   ]
  },
  {
   "cell_type": "code",
   "execution_count": 7,
   "metadata": {},
   "outputs": [
    {
     "name": "stdout",
     "output_type": "stream",
     "text": [
      "la surface du cercle est  :  3.141592653589793\n"
     ]
    }
   ],
   "source": [
    "surf_cercle = surf_cercle(1,1,1)\n",
    "print(\"la surface du cercle est  : \", surf_cercle.surface())"
   ]
  },
  {
   "cell_type": "code",
   "execution_count": 8,
   "metadata": {},
   "outputs": [],
   "source": [
    "#1.3."
   ]
  },
  {
   "cell_type": "code",
   "execution_count": 9,
   "metadata": {},
   "outputs": [
    {
     "name": "stdout",
     "output_type": "stream",
     "text": [
      "132.13199999999998\n"
     ]
    }
   ],
   "source": [
    "def volBoite(x1, x2, x3):\n",
    "  \"Volume d'une boîte parallélipipédique\"\n",
    "  return x1 * x2 * x3\n",
    " \n",
    "# test :\n",
    "print(volBoite(5.2, 7.7, 3.3))"
   ]
  },
  {
   "cell_type": "code",
   "execution_count": 10,
   "metadata": {},
   "outputs": [],
   "source": [
    "#1.4."
   ]
  },
  {
   "cell_type": "code",
   "execution_count": 11,
   "metadata": {},
   "outputs": [
    {
     "name": "stdout",
     "output_type": "stream",
     "text": [
      "-1\n",
      "140.608\n",
      "81.12\n",
      "115.44000000000001\n"
     ]
    }
   ],
   "source": [
    "def volBoite(x1 =-1, x2 =-1, x3 =-1):\n",
    "  \"Volume d'une boîte parallélipipédique\"\n",
    "  if x1 == -1 :\n",
    "      return x1      # aucun argument n'a été fourni (3 arguments)\n",
    "  elif x2 == -1 :\n",
    "      return x1**3\t# un seul argument -> boîte cubique\n",
    "  elif x3 == -1 :\n",
    "      return x1*x1*x2\t   # deux arguments -> boîte prismatique\n",
    "  else :\n",
    "      return x1*x2*x3\n",
    " \n",
    "# test :\n",
    "print(volBoite()) \n",
    "print(volBoite(5.2)) \n",
    "print(volBoite(5.2, 3)) \n",
    "print(volBoite(5.2, 3, 7.4))"
   ]
  },
  {
   "cell_type": "code",
   "execution_count": 12,
   "metadata": {},
   "outputs": [],
   "source": [
    "#1.5."
   ]
  },
  {
   "cell_type": "code",
   "execution_count": 13,
   "metadata": {},
   "outputs": [
    {
     "name": "stdout",
     "output_type": "stream",
     "text": [
      "Caci ast una touta patita phrasa\n"
     ]
    }
   ],
   "source": [
    "def changeCar(ch, c1, c2, debut =0, fin =-1):\n",
    "  \"Remplace tous les caractères c1 par des c2 dans la chaîne ch\"\n",
    "  if fin == -1:\n",
    "      fin = len(ch)\n",
    "  nch, i = \"\", 0\t# nch : nouvelle chaîne à construire\n",
    "  while i < len(ch) :\n",
    "      if i >= debut and i <= fin and ch[i] == c1:\n",
    "        nch = nch + c2\n",
    "      else :\n",
    "        nch = nch + ch[i]\n",
    "      i = i + 1\n",
    "  return nch\n",
    " \n",
    "# test :\n",
    "print((changeCar(\"Ceci est une toute petite phrase\", \"e\", \"a\"))) "
   ]
  },
  {
   "cell_type": "code",
   "execution_count": 14,
   "metadata": {},
   "outputs": [],
   "source": [
    "#1.6."
   ]
  },
  {
   "cell_type": "code",
   "execution_count": 15,
   "metadata": {},
   "outputs": [
    {
     "name": "stdout",
     "output_type": "stream",
     "text": [
      "Ceci*est*une*toute*petite*phrase\n",
      "Ceci est*une*toute petite phrase\n",
      "Ceci est une*toute*petite*phrase\n",
      "Ceci*est*une*toute petite phrase\n"
     ]
    }
   ],
   "source": [
    "def changeCar(ch, c1, c2, debut =0, fin =-1):\n",
    "  \"Remplace tous les caractères c1 par des c2 dans la chaîne ch\"\n",
    "  if fin == -1:\n",
    "      fin = len(ch)\n",
    "  nch, i = \"\", 0\t# nch : nouvelle chaîne à construire\n",
    "  while i < len(ch) :\n",
    "      if i >= debut and i <= fin and ch[i] == c1:\n",
    "        nch = nch + c2\n",
    "      else :\n",
    "        nch = nch + ch[i]\n",
    "      i = i + 1\n",
    "  return nch\n",
    " \n",
    "# test :\n",
    "print((changeCar(\"Ceci est une toute petite phrase\", \" \", \"*\"))) \n",
    "print((changeCar(\"Ceci est une toute petite phrase\", \" \", \"*\", 8, 12))) \n",
    "print((changeCar(\"Ceci est une toute petite phrase\", \" \", \"*\", 12))) \n",
    "print((changeCar(\"Ceci est une toute petite phrase\", \" \", \"*\", fin =12)))"
   ]
  },
  {
   "cell_type": "markdown",
   "metadata": {},
   "source": [
    "#### Exercice 2 (fonctions)."
   ]
  },
  {
   "cell_type": "code",
   "execution_count": 16,
   "metadata": {},
   "outputs": [
    {
     "name": "stdout",
     "output_type": "stream",
     "text": [
      "Enter a string: oui oui\n"
     ]
    },
    {
     "ename": "NameError",
     "evalue": "name 'counter' is not defined",
     "output_type": "error",
     "traceback": [
      "\u001b[0;31m---------------------------------------------------------------------------\u001b[0m",
      "\u001b[0;31mNameError\u001b[0m                                 Traceback (most recent call last)",
      "\u001b[0;32m<ipython-input-16-8bb9bd0f8e7b>\u001b[0m in \u001b[0;36m<module>\u001b[0;34m\u001b[0m\n\u001b[1;32m      7\u001b[0m     \u001b[0;32mfor\u001b[0m \u001b[0ms\u001b[0m \u001b[0;32min\u001b[0m \u001b[0mstr\u001b[0m\u001b[0;34m:\u001b[0m\u001b[0;34m\u001b[0m\u001b[0;34m\u001b[0m\u001b[0m\n\u001b[1;32m      8\u001b[0m         \u001b[0mcounter\u001b[0m \u001b[0;34m=\u001b[0m \u001b[0mcounter\u001b[0m\u001b[0;34m+\u001b[0m\u001b[0;36m1\u001b[0m\u001b[0;34m\u001b[0m\u001b[0;34m\u001b[0m\u001b[0m\n\u001b[0;32m----> 9\u001b[0;31m \u001b[0mprint\u001b[0m\u001b[0;34m(\u001b[0m\u001b[0;34m\"Length of the input string is:\"\u001b[0m\u001b[0;34m,\u001b[0m \u001b[0mcounter\u001b[0m\u001b[0;34m)\u001b[0m\u001b[0;34m\u001b[0m\u001b[0;34m\u001b[0m\u001b[0m\n\u001b[0m",
      "\u001b[0;31mNameError\u001b[0m: name 'counter' is not defined"
     ]
    }
   ],
   "source": [
    "# User inputs the string and it gets stored in variable str\n",
    "str = input(\"Enter a string: \")\n",
    "\n",
    "# counter variable to count the character in a string\n",
    "def nb_car(chaine):\n",
    "    counter = 0\n",
    "    for s in str:\n",
    "        counter = counter+1\n",
    "print(\"Length of the input string is:\", counter)"
   ]
  },
  {
   "cell_type": "code",
   "execution_count": null,
   "metadata": {},
   "outputs": [],
   "source": [
    "str = input(\"Enter a string: \")\n",
    "\n",
    "def nb_mots(chaine):\n",
    "    count = len(re.findall(r'\\w+', line))\n",
    "print (counter)"
   ]
  },
  {
   "cell_type": "code",
   "execution_count": null,
   "metadata": {},
   "outputs": [],
   "source": [
    "string = input(\"Enter a string: \")\n",
    "\n",
    "def nb_mots(chaine):\n",
    "    counter = 0\n",
    "for c in string:\n",
    "\t# for every symbol found, we increment the number of words\n",
    "\tif  (c == \" \"):\n",
    "\t\tcounter += 1\n",
    "# we add 1 to count the last word (note counted, since not followed by a \". \" but only by a \".\")\n",
    "counter += 1\n",
    "print (counter)"
   ]
  },
  {
   "cell_type": "markdown",
   "metadata": {},
   "source": [
    "#### Exercice 3 (fonctions)."
   ]
  },
  {
   "cell_type": "code",
   "execution_count": null,
   "metadata": {},
   "outputs": [],
   "source": [
    "#3.1."
   ]
  },
  {
   "cell_type": "code",
   "execution_count": 32,
   "metadata": {},
   "outputs": [
    {
     "name": "stdout",
     "output_type": "stream",
     "text": [
      "8\n",
      "8 x 1 = 8\n",
      "8 x 2 = 16\n",
      "8 x 3 = 24\n",
      "8 x 4 = 32\n",
      "8 x 5 = 40\n",
      "8 x 6 = 48\n",
      "8 x 7 = 56\n",
      "8 x 8 = 64\n",
      "8 x 9 = 72\n",
      "8 x 10 = 80\n",
      "None\n"
     ]
    }
   ],
   "source": [
    "def TableMulti(n, debut = 1, fin = 10):\n",
    "    if n == False:\n",
    "        for i in range(10):\n",
    "            print(1,\"x\",i+1,\"=\",1*(i+1))\n",
    "    else:\n",
    "        for i in range(10):\n",
    "            print(n,\"x\",i+1,\"=\",n*(i+1))\n",
    "\n",
    "number = int(input())\n",
    "print(namata(number))"
   ]
  },
  {
   "cell_type": "code",
   "execution_count": null,
   "metadata": {},
   "outputs": [],
   "source": [
    "#3.2."
   ]
  },
  {
   "cell_type": "code",
   "execution_count": null,
   "metadata": {},
   "outputs": [],
   "source": [
    "def TableMulti(n, debut = 1, fin = 10):\n",
    "    if n == False:\n",
    "        for i in reversed (range(10)):\n",
    "            print(1,\"x\",i+1,\"=\",1*(i+1))\n",
    "    else:\n",
    "        for i in reversed (range(10)):\n",
    "            print(n,\"x\",i+1,\"=\",n*(i+1))\n",
    "\n",
    "number = int(input())\n",
    "print(namata(number))"
   ]
  },
  {
   "cell_type": "markdown",
   "metadata": {},
   "source": [
    "#### Exercice 4 (le jeu “Motus”)."
   ]
  },
  {
   "cell_type": "code",
   "execution_count": null,
   "metadata": {},
   "outputs": [],
   "source": [
    "#4.1."
   ]
  },
  {
   "cell_type": "code",
   "execution_count": null,
   "metadata": {},
   "outputs": [],
   "source": [
    "def remplace (ch, c1, c2, debut =0, fin =-1):\n",
    "  \"Remplace tous les caractères c1 par des c2 dans la chaîne ch\"\n",
    "  if fin == -1:\n",
    "      fin = len(ch)\n",
    "  nch, i = \"\", 0\t# nch : nouvelle chaîne à construire\n",
    "  while i < len(ch) :"
   ]
  },
  {
   "cell_type": "markdown",
   "metadata": {},
   "source": [
    "# TD 5 : Manipulation de fichiers"
   ]
  },
  {
   "cell_type": "markdown",
   "metadata": {},
   "source": [
    "#### Exercice 1 (Opérations de base sur fichiers)."
   ]
  },
  {
   "cell_type": "code",
   "execution_count": null,
   "metadata": {},
   "outputs": [],
   "source": [
    "#1.1."
   ]
  },
  {
   "cell_type": "code",
   "execution_count": null,
   "metadata": {},
   "outputs": [],
   "source": [
    "fichier = open(\"data.txt\", \"w\")\n",
    "print (fichier)"
   ]
  },
  {
   "cell_type": "code",
   "execution_count": null,
   "metadata": {},
   "outputs": [],
   "source": [
    "fichier = open(\"data.txt\", \"w\")\n",
    "fichier.write(\"Bonjour \\n tout le monde\")\n",
    "fichier.close()"
   ]
  },
  {
   "cell_type": "code",
   "execution_count": null,
   "metadata": {},
   "outputs": [],
   "source": [
    "fichier = open(\"data.txt\",\"option\")"
   ]
  },
  {
   "cell_type": "code",
   "execution_count": null,
   "metadata": {},
   "outputs": [],
   "source": [
    "with open (\"data.txt\", 'r') as filin:\n",
    "    lignes = filin.readlines(4)\n",
    "for ligne in lignes:\n",
    "    print (ligne)"
   ]
  },
  {
   "cell_type": "code",
   "execution_count": null,
   "metadata": {},
   "outputs": [],
   "source": [
    "f = open(\"data.txt\", 'r') \n",
    "print(f.read())"
   ]
  },
  {
   "cell_type": "code",
   "execution_count": null,
   "metadata": {},
   "outputs": [],
   "source": [
    "f = open(\"data.txt\", \"r\")\n",
    "print(f.readlines())"
   ]
  },
  {
   "cell_type": "code",
   "execution_count": null,
   "metadata": {},
   "outputs": [],
   "source": [
    "f = open(\"data.txt\", \"a\")\n",
    "f.write(\"hello\")\n",
    "f.close()\n",
    "\n",
    "f = open(\"data.txt\", \"r\")\n",
    "print(f.read())"
   ]
  },
  {
   "cell_type": "code",
   "execution_count": null,
   "metadata": {},
   "outputs": [],
   "source": [
    "def set_data():\n",
    "    file = askopendata(filetypes=FILETYPES)\n",
    "     \n",
    "    data.set(file)\n",
    "     \n",
    "    if data:\n",
    "        with open(data) as file:\n",
    "            return file.read()"
   ]
  },
  {
   "cell_type": "code",
   "execution_count": null,
   "metadata": {},
   "outputs": [],
   "source": [
    "def interact():\n",
    "    fn = raw_input(\"Enter a filename: \")\n",
    "    return fn\n",
    "def load_maze(fn):\n",
    "    myfile = open(fn)\n",
    "    maze_txt = myfile.read()\n",
    "    myfile.close()\n",
    "    return maze_txt\n",
    "\n",
    "print(load_maze(interact()))"
   ]
  },
  {
   "cell_type": "code",
   "execution_count": null,
   "metadata": {},
   "outputs": [],
   "source": [
    "selectfile = file(raw_input(\"Enter Filename: \"), 'r')\n",
    "with open(selectfile, 'r') as inF:\n",
    "    \n",
    "    with open('outputfile.txt', 'w') as f:\n",
    "\n",
    "    for index, line in enumerate(inF):\n",
    "\n",
    "        if myString in line:\n",
    "\n",
    "                print \"Search Term Found!\"\n",
    "\n",
    "                f.write(\"Line %d has string: %s\" % (index, line))\n",
    "\n",
    "filename = \"outputfile.txt\"\n",
    "myfile = open(filename)\n",
    "lines = len(myfile.readlines())"
   ]
  },
  {
   "cell_type": "code",
   "execution_count": null,
   "metadata": {},
   "outputs": [],
   "source": [
    "#3.1."
   ]
  },
  {
   "cell_type": "code",
   "execution_count": null,
   "metadata": {},
   "outputs": [],
   "source": [
    "from random import *"
   ]
  },
  {
   "cell_type": "code",
   "execution_count": null,
   "metadata": {},
   "outputs": [],
   "source": [
    "import random\n",
    "random.randint(0,100)"
   ]
  },
  {
   "cell_type": "code",
   "execution_count": null,
   "metadata": {},
   "outputs": [],
   "source": [
    "import random\n",
    "random.randint(100,200)"
   ]
  },
  {
   "cell_type": "code",
   "execution_count": null,
   "metadata": {},
   "outputs": [],
   "source": [
    "#3.2."
   ]
  },
  {
   "cell_type": "code",
   "execution_count": null,
   "metadata": {},
   "outputs": [],
   "source": [
    "N = [random.randint(0,100) for i in range(7)]"
   ]
  },
  {
   "cell_type": "code",
   "execution_count": null,
   "metadata": {},
   "outputs": [],
   "source": [
    "N"
   ]
  },
  {
   "cell_type": "code",
   "execution_count": null,
   "metadata": {},
   "outputs": [],
   "source": [
    "#4."
   ]
  },
  {
   "cell_type": "code",
   "execution_count": null,
   "metadata": {},
   "outputs": [],
   "source": [
    "fichier = input(\"fichier:\")\n",
    "file = open(fichier, 'r')"
   ]
  },
  {
   "cell_type": "code",
   "execution_count": null,
   "metadata": {},
   "outputs": [],
   "source": [
    "fichier = open(\"exo.txt, \"w\")\n",
    "fichier.write(\"maison\\n\")\n",
    "fichier.write(\"casa\\n\")\n",
    "fichier.close()"
   ]
  },
  {
   "cell_type": "code",
   "execution_count": null,
   "metadata": {},
   "outputs": [],
   "source": [
    "fichier = open(\"exo.txt, \"r\")\n",
    "print(fichier.read())"
   ]
  },
  {
   "cell_type": "code",
   "execution_count": null,
   "metadata": {},
   "outputs": [],
   "source": [
    "fichier = ['maison', 'bien']\n",
    "print(fichier)"
   ]
  },
  {
   "cell_type": "code",
   "execution_count": null,
   "metadata": {},
   "outputs": [],
   "source": [
    "#6."
   ]
  },
  {
   "cell_type": "code",
   "execution_count": null,
   "metadata": {},
   "outputs": [],
   "source": [
    "def test(liste):\n",
    "    i = 0\n",
    "    while i < len (liste):\n",
    "        of.write(liste[i] + \"#\")\n",
    "        i = i + 1\n",
    "    of.write(\"\\n\")\n",
    "        \n",
    "nomF = input ('nom : ')\n",
    "prenomF = input ('prenom : ')\n",
    "of = open(nomF, 'a')"
   ]
  },
  {
   "cell_type": "code",
   "execution_count": null,
   "metadata": {},
   "outputs": [],
   "source": [
    "#7."
   ]
  },
  {
   "cell_type": "code",
   "execution_count": null,
   "metadata": {},
   "outputs": [],
   "source": [
    "liste = 'un,deux,trois'.split(',')"
   ]
  },
  {
   "cell_type": "code",
   "execution_count": null,
   "metadata": {},
   "outputs": [],
   "source": [
    "liste"
   ]
  },
  {
   "cell_type": "code",
   "execution_count": null,
   "metadata": {},
   "outputs": [],
   "source": [
    "':'.join(liste)"
   ]
  },
  {
   "cell_type": "code",
   "execution_count": null,
   "metadata": {},
   "outputs": [],
   "source": []
  }
 ],
 "metadata": {
  "kernelspec": {
   "display_name": "Python 3",
   "language": "python",
   "name": "python3"
  },
  "language_info": {
   "codemirror_mode": {
    "name": "ipython",
    "version": 3
   },
   "file_extension": ".py",
   "mimetype": "text/x-python",
   "name": "python",
   "nbconvert_exporter": "python",
   "pygments_lexer": "ipython3",
   "version": "3.7.4"
  }
 },
 "nbformat": 4,
 "nbformat_minor": 2
}
