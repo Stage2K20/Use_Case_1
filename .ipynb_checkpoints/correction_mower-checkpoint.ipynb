{
 "cells": [
  {
   "cell_type": "markdown",
   "metadata": {},
   "source": [
    "# Libraries and Custom Functions"
   ]
  },
  {
   "cell_type": "code",
   "execution_count": 1,
   "metadata": {
    "collapsed": true
   },
   "outputs": [
    {
     "ename": "ModuleNotFoundError",
     "evalue": "No module named 'sklearn'",
     "output_type": "error",
     "traceback": [
      "\u001b[0;31m---------------------------------------------------------------------------\u001b[0m",
      "\u001b[0;31mModuleNotFoundError\u001b[0m                       Traceback (most recent call last)",
      "\u001b[0;32m<timed exec>\u001b[0m in \u001b[0;36m<module>\u001b[0;34m\u001b[0m\n",
      "\u001b[0;31mModuleNotFoundError\u001b[0m: No module named 'sklearn'"
     ]
    }
   ],
   "source": [
    "%%time\n",
    "import pandas as pd\n",
    "from itertools import groupby\n",
    "import numpy as np\n",
    "from sklearn import linear_model\n",
    "from sklearn.metrics import r2_score\n",
    "from pandas import *\n",
    "from decimal import *\n",
    "import xgboost as xgb\n",
    "from vecstack import stacking\n",
    "from vecstack import StackingTransformer\n",
    "from sklearn.grid_search import GridSearchCV\n",
    "from sklearn.model_selection import train_test_split\n",
    "from xgboost.sklearn import XGBRegressor\n",
    "from sklearn.preprocessing import LabelEncoder\n",
    "from sklearn.metrics import cohen_kappa_score, make_scorer\n",
    "import math\n",
    "from sklearn.pipeline import Pipeline\n",
    "from sklearn.externals import joblib\n",
    "from xgboost import XGBRegressor\n",
    "from vecstack import StackingTransformer\n",
    "from sklearn.metrics import fbeta_score, make_scorer\n",
    "from sklearn.tree import DecisionTreeRegressor\n",
    "from sklearn.ensemble import GradientBoostingRegressor, AdaBoostRegressor, RandomForestRegressor\n",
    "from sklearn import cross_validation\n",
    "import matplotlib.pyplot as plt\n",
    "\n",
    "#Custom functions\n",
    "def rmsle(y, y0):\n",
    "    assert len(y) == len(y0)\n",
    "    return np.sqrt(np.mean(np.power(np.log1p(y)-np.log1p(y0), 2)))\n",
    "\n",
    "def Treatment_1(name):\n",
    "    global ID\n",
    "    df = pd.read_csv(name, sep=\";\", header=None)\n",
    "    df.columns = df.iloc[0, :].tolist()\n",
    "    df = df.drop(0, axis = 0).reset_index(drop = True)\n",
    "    ID = df.id\n",
    "    df = df.drop('id', axis =  1)\n",
    "    return df\n",
    "\n",
    "def Treatment_2(df):\n",
    "    lb_make = LabelEncoder()      #Let's transform our string categorical data to numeric categorical data !    \n",
    "    label_list = df.columns[5:7].tolist()\n",
    "    wa = df.columns[7]\n",
    "    numeric_list = df.columns[~df.columns.isin(df.columns[5:8])].tolist()\n",
    "    for x in df.columns: \n",
    "        for w in df.index:\n",
    "            if x in numeric_list:\n",
    "                if df[x][w] == 'unknown':\n",
    "                    df[x][w] = 0\n",
    "            elif x in wa:\n",
    "                df[x][w] = df[x][w][0]\n",
    "            elif x in label_list:\n",
    "                df[str(x)+'_encoded'] = lb_make.fit_transform(df[x])\n",
    "    if 'market_share' in df.columns.tolist():\n",
    "        df = df.drop('market_share', axis = 1)\n",
    "    df = df.drop(label_list, axis = 1)\n",
    "    for x in df.columns:\n",
    "        df[x] = df[x].astype(float)    \n",
    "    return df\n",
    "\n",
    "def Treatment_3(df):\n",
    "    for x, y in zip(df.prod_cost, df.index):\n",
    "        rep = math.isnan(df.prod_cost[y])\n",
    "        if rep == True or x == 0 or x < 0:\n",
    "            df['prod_cost'][y] = df['prod_cost'].mean()\n",
    "    return df\n",
    "\n",
    "#Files    \n",
    "name_1 = 'mower_market_snapshot.csv'\n",
    "name_2 = 'submission_set.csv'"
   ]
  }
 ],
 "metadata": {
  "kernelspec": {
   "display_name": "Python 3",
   "language": "python",
   "name": "python3"
  },
  "language_info": {
   "codemirror_mode": {
    "name": "ipython",
    "version": 3
   },
   "file_extension": ".py",
   "mimetype": "text/x-python",
   "name": "python",
   "nbconvert_exporter": "python",
   "pygments_lexer": "ipython3",
   "version": "3.6.9"
  }
 },
 "nbformat": 4,
 "nbformat_minor": 2
}
