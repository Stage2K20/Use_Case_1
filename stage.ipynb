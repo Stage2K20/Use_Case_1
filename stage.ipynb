{
 "cells": [
  {
   "cell_type": "code",
   "execution_count": 1,
   "metadata": {},
   "outputs": [],
   "source": [
    "# Exercice 1"
   ]
  },
  {
   "cell_type": "code",
   "execution_count": 2,
   "metadata": {},
   "outputs": [],
   "source": [
    "x = 2"
   ]
  },
  {
   "cell_type": "code",
   "execution_count": 3,
   "metadata": {},
   "outputs": [],
   "source": [
    "z = 8"
   ]
  },
  {
   "cell_type": "code",
   "execution_count": 4,
   "metadata": {},
   "outputs": [],
   "source": [
    "y = 6"
   ]
  },
  {
   "cell_type": "code",
   "execution_count": 5,
   "metadata": {},
   "outputs": [
    {
     "data": {
      "text/plain": [
       "1.3333333333333333"
      ]
     },
     "execution_count": 5,
     "metadata": {},
     "output_type": "execute_result"
    }
   ],
   "source": [
    "z / y "
   ]
  },
  {
   "cell_type": "code",
   "execution_count": 6,
   "metadata": {},
   "outputs": [
    {
     "data": {
      "text/plain": [
       "0"
      ]
     },
     "execution_count": 6,
     "metadata": {},
     "output_type": "execute_result"
    }
   ],
   "source": [
    "z % x"
   ]
  },
  {
   "cell_type": "code",
   "execution_count": 7,
   "metadata": {},
   "outputs": [
    {
     "data": {
      "text/plain": [
       "48"
      ]
     },
     "execution_count": 7,
     "metadata": {},
     "output_type": "execute_result"
    }
   ],
   "source": [
    "y * z"
   ]
  },
  {
   "cell_type": "code",
   "execution_count": 8,
   "metadata": {},
   "outputs": [
    {
     "data": {
      "text/plain": [
       "36"
      ]
     },
     "execution_count": 8,
     "metadata": {},
     "output_type": "execute_result"
    }
   ],
   "source": [
    "y ** x"
   ]
  },
  {
   "cell_type": "code",
   "execution_count": 9,
   "metadata": {},
   "outputs": [
    {
     "data": {
      "text/plain": [
       "10"
      ]
     },
     "execution_count": 9,
     "metadata": {},
     "output_type": "execute_result"
    }
   ],
   "source": [
    "x + z"
   ]
  },
  {
   "cell_type": "code",
   "execution_count": 10,
   "metadata": {},
   "outputs": [
    {
     "data": {
      "text/plain": [
       "-2"
      ]
     },
     "execution_count": 10,
     "metadata": {},
     "output_type": "execute_result"
    }
   ],
   "source": [
    "y - z"
   ]
  },
  {
   "cell_type": "code",
   "execution_count": 11,
   "metadata": {},
   "outputs": [],
   "source": [
    "# Exercice 2"
   ]
  },
  {
   "cell_type": "code",
   "execution_count": 12,
   "metadata": {},
   "outputs": [],
   "source": [
    "s = 'chaise'"
   ]
  },
  {
   "cell_type": "code",
   "execution_count": 13,
   "metadata": {},
   "outputs": [
    {
     "data": {
      "text/plain": [
       "'chaise'"
      ]
     },
     "execution_count": 13,
     "metadata": {},
     "output_type": "execute_result"
    }
   ],
   "source": [
    "s"
   ]
  },
  {
   "cell_type": "code",
   "execution_count": 14,
   "metadata": {},
   "outputs": [],
   "source": [
    "t = 'table'"
   ]
  },
  {
   "cell_type": "code",
   "execution_count": 15,
   "metadata": {},
   "outputs": [
    {
     "data": {
      "text/plain": [
       "'table'"
      ]
     },
     "execution_count": 15,
     "metadata": {},
     "output_type": "execute_result"
    }
   ],
   "source": [
    "t"
   ]
  },
  {
   "cell_type": "code",
   "execution_count": 16,
   "metadata": {},
   "outputs": [
    {
     "data": {
      "text/plain": [
       "'chaisetable'"
      ]
     },
     "execution_count": 16,
     "metadata": {},
     "output_type": "execute_result"
    }
   ],
   "source": [
    "s + t"
   ]
  },
  {
   "cell_type": "code",
   "execution_count": 17,
   "metadata": {},
   "outputs": [
    {
     "data": {
      "text/plain": [
       "'tabletabletable'"
      ]
     },
     "execution_count": 17,
     "metadata": {},
     "output_type": "execute_result"
    }
   ],
   "source": [
    "t * 3"
   ]
  },
  {
   "cell_type": "code",
   "execution_count": 18,
   "metadata": {},
   "outputs": [
    {
     "data": {
      "text/plain": [
       "'chaisechaisechaisechaise'"
      ]
     },
     "execution_count": 18,
     "metadata": {},
     "output_type": "execute_result"
    }
   ],
   "source": [
    "s * 4"
   ]
  },
  {
   "cell_type": "code",
   "execution_count": 19,
   "metadata": {},
   "outputs": [],
   "source": [
    "# pour recuperer la deuxieme lettre de t donc de table"
   ]
  },
  {
   "cell_type": "code",
   "execution_count": 20,
   "metadata": {},
   "outputs": [
    {
     "data": {
      "text/plain": [
       "'b'"
      ]
     },
     "execution_count": 20,
     "metadata": {},
     "output_type": "execute_result"
    }
   ],
   "source": [
    "t[x]"
   ]
  },
  {
   "cell_type": "code",
   "execution_count": 21,
   "metadata": {},
   "outputs": [],
   "source": [
    "# pour nommer la deuxieme lettre de S donc de chaise en commencant par la fin de la chaine car '-' "
   ]
  },
  {
   "cell_type": "code",
   "execution_count": 22,
   "metadata": {},
   "outputs": [
    {
     "data": {
      "text/plain": [
       "'s'"
      ]
     },
     "execution_count": 22,
     "metadata": {},
     "output_type": "execute_result"
    }
   ],
   "source": [
    "s[-x]"
   ]
  },
  {
   "cell_type": "code",
   "execution_count": 23,
   "metadata": {},
   "outputs": [],
   "source": [
    "# cela prend le mot \"t\" donc \"table\" et il va extraire les lettres entre la deuxieme et la sixième  :"
   ]
  },
  {
   "cell_type": "code",
   "execution_count": 24,
   "metadata": {},
   "outputs": [
    {
     "data": {
      "text/plain": [
       "'ble'"
      ]
     },
     "execution_count": 24,
     "metadata": {},
     "output_type": "execute_result"
    }
   ],
   "source": [
    "t[x:y]"
   ]
  },
  {
   "cell_type": "code",
   "execution_count": 25,
   "metadata": {},
   "outputs": [],
   "source": [
    "# la longueur du mot : il va compter toutes les lettres du mot \"t\" donc \"table\""
   ]
  },
  {
   "cell_type": "code",
   "execution_count": 26,
   "metadata": {},
   "outputs": [
    {
     "data": {
      "text/plain": [
       "5"
      ]
     },
     "execution_count": 26,
     "metadata": {},
     "output_type": "execute_result"
    }
   ],
   "source": [
    "len (t)"
   ]
  },
  {
   "cell_type": "code",
   "execution_count": 27,
   "metadata": {},
   "outputs": [],
   "source": [
    "#Exercice 3"
   ]
  },
  {
   "cell_type": "code",
   "execution_count": 28,
   "metadata": {},
   "outputs": [],
   "source": [
    "#ici, le z est équivalent au chiffre 8 et le x au chiffre 2 , donc z est bien plus grand que x, c'est VRAI"
   ]
  },
  {
   "cell_type": "code",
   "execution_count": 29,
   "metadata": {},
   "outputs": [
    {
     "data": {
      "text/plain": [
       "True"
      ]
     },
     "execution_count": 29,
     "metadata": {},
     "output_type": "execute_result"
    }
   ],
   "source": [
    "z > x"
   ]
  },
  {
   "cell_type": "code",
   "execution_count": 30,
   "metadata": {},
   "outputs": [],
   "source": [
    "#ici, y (6) n'est pas plus petit que x (2) donc ce la est faux"
   ]
  },
  {
   "cell_type": "code",
   "execution_count": 31,
   "metadata": {},
   "outputs": [
    {
     "data": {
      "text/plain": [
       "False"
      ]
     },
     "execution_count": 31,
     "metadata": {},
     "output_type": "execute_result"
    }
   ],
   "source": [
    "y < x"
   ]
  },
  {
   "cell_type": "code",
   "execution_count": 32,
   "metadata": {},
   "outputs": [],
   "source": [
    "# 6 est égal à 2 "
   ]
  },
  {
   "cell_type": "code",
   "execution_count": 33,
   "metadata": {},
   "outputs": [
    {
     "data": {
      "text/plain": [
       "False"
      ]
     },
     "execution_count": 33,
     "metadata": {},
     "output_type": "execute_result"
    }
   ],
   "source": [
    "y == x"
   ]
  },
  {
   "cell_type": "code",
   "execution_count": 34,
   "metadata": {},
   "outputs": [],
   "source": [
    "# 6 est égal à 6 "
   ]
  },
  {
   "cell_type": "code",
   "execution_count": 35,
   "metadata": {},
   "outputs": [
    {
     "data": {
      "text/plain": [
       "True"
      ]
     },
     "execution_count": 35,
     "metadata": {},
     "output_type": "execute_result"
    }
   ],
   "source": [
    "y == y"
   ]
  },
  {
   "cell_type": "code",
   "execution_count": 36,
   "metadata": {},
   "outputs": [],
   "source": [
    "# Exercice 4"
   ]
  },
  {
   "cell_type": "code",
   "execution_count": 37,
   "metadata": {},
   "outputs": [],
   "source": [
    "prénom = 'ines'"
   ]
  },
  {
   "cell_type": "code",
   "execution_count": 38,
   "metadata": {},
   "outputs": [],
   "source": [
    "nom = 'majri'"
   ]
  },
  {
   "cell_type": "code",
   "execution_count": 39,
   "metadata": {},
   "outputs": [],
   "source": [
    "#on rassemble le prenom et le nom dans la meme chaîne de caractère avec un espace"
   ]
  },
  {
   "cell_type": "code",
   "execution_count": 40,
   "metadata": {},
   "outputs": [],
   "source": [
    "nom_complet = 'ines majri'"
   ]
  },
  {
   "cell_type": "code",
   "execution_count": 41,
   "metadata": {},
   "outputs": [
    {
     "data": {
      "text/plain": [
       "'ines majri'"
      ]
     },
     "execution_count": 41,
     "metadata": {},
     "output_type": "execute_result"
    }
   ],
   "source": [
    "nom_complet"
   ]
  },
  {
   "cell_type": "code",
   "execution_count": 42,
   "metadata": {},
   "outputs": [],
   "source": [
    "# Imprimer une centaine de fois le prénom et nom"
   ]
  },
  {
   "cell_type": "code",
   "execution_count": 43,
   "metadata": {},
   "outputs": [
    {
     "data": {
      "text/plain": [
       "'ines majriines majriines majriines majriines majriines majriines majriines majriines majriines majriines majriines majriines majriines majriines majriines majriines majriines majriines majriines majriines majriines majriines majriines majriines majriines majriines majriines majriines majriines majriines majriines majriines majriines majriines majriines majriines majriines majriines majriines majriines majriines majriines majriines majriines majriines majriines majriines majriines majriines majriines majriines majriines majriines majriines majriines majriines majriines majriines majriines majriines majriines majriines majriines majriines majriines majriines majriines majriines majriines majriines majriines majriines majriines majriines majriines majriines majriines majriines majriines majriines majriines majriines majriines majriines majriines majriines majriines majriines majriines majriines majriines majriines majriines majriines majriines majriines majriines majriines majriines majri'"
      ]
     },
     "execution_count": 43,
     "metadata": {},
     "output_type": "execute_result"
    }
   ],
   "source": [
    "nom_complet * 100"
   ]
  },
  {
   "cell_type": "code",
   "execution_count": 44,
   "metadata": {},
   "outputs": [
    {
     "name": "stdout",
     "output_type": "stream",
     "text": [
      "ines majri\n"
     ]
    }
   ],
   "source": [
    "print(nom_complet)"
   ]
  },
  {
   "cell_type": "code",
   "execution_count": 45,
   "metadata": {},
   "outputs": [],
   "source": [
    "# avoir les initiales séparées d'un espace / méthode à partir de 'nom complet'"
   ]
  },
  {
   "cell_type": "code",
   "execution_count": 46,
   "metadata": {},
   "outputs": [],
   "source": [
    "initiales = nom_complet [0] , nom_complet [5]"
   ]
  },
  {
   "cell_type": "code",
   "execution_count": 47,
   "metadata": {},
   "outputs": [
    {
     "data": {
      "text/plain": [
       "('i', 'm')"
      ]
     },
     "execution_count": 47,
     "metadata": {},
     "output_type": "execute_result"
    }
   ],
   "source": [
    "initiales"
   ]
  },
  {
   "cell_type": "code",
   "execution_count": 48,
   "metadata": {},
   "outputs": [],
   "source": [
    "# Autre methode vu sur internet à partir de \"print\" et \"end=\" \n",
    "# de sorte à ce que les trois chevrons \">>>\" se retrouvent collés après la chaîne de caractères \n",
    "# et qu'il ne le renvoie pas à la ligne"
   ]
  },
  {
   "cell_type": "code",
   "execution_count": 49,
   "metadata": {},
   "outputs": [
    {
     "name": "stdout",
     "output_type": "stream",
     "text": [
      "i\n",
      "m\n"
     ]
    }
   ],
   "source": [
    "print(\"i\") ; print(\"m\")"
   ]
  },
  {
   "cell_type": "code",
   "execution_count": 50,
   "metadata": {},
   "outputs": [
    {
     "name": "stdout",
     "output_type": "stream",
     "text": [
      "im\n"
     ]
    }
   ],
   "source": [
    "print(\"i\", end=\"\") ; print(\"m\")"
   ]
  },
  {
   "cell_type": "code",
   "execution_count": 51,
   "metadata": {},
   "outputs": [
    {
     "name": "stdout",
     "output_type": "stream",
     "text": [
      "i m\n"
     ]
    }
   ],
   "source": [
    "print(\"i\", end=\" \") ; print(\"m\") "
   ]
  },
  {
   "cell_type": "code",
   "execution_count": 52,
   "metadata": {},
   "outputs": [
    {
     "data": {
      "text/plain": [
       "'iiiiiiiiiiiiiiiiiiiiiiiiiiiiiiiiiiiiiiiiiiiiiiiiiiiiiiiiiiiiiiiiiiiiiiiiiiiiiiiiiiiiiiiiiiiiiiiiiiii'"
      ]
     },
     "execution_count": 52,
     "metadata": {},
     "output_type": "execute_result"
    }
   ],
   "source": [
    "nom_complet[0] * 100"
   ]
  },
  {
   "cell_type": "code",
   "execution_count": 53,
   "metadata": {},
   "outputs": [
    {
     "data": {
      "text/plain": [
       "'mmmmmmmmmmmmmmmmmmmmmmmmmmmmmmmmmmmmmmmmmmmmmmmmmmmmmmmmmmmmmmmmmmmmmmmmmmmmmmmmmmmmmmmmmmmmmmmmmmmm'"
      ]
     },
     "execution_count": 53,
     "metadata": {},
     "output_type": "execute_result"
    }
   ],
   "source": [
    "nom_complet[5] * 100"
   ]
  },
  {
   "cell_type": "code",
   "execution_count": 54,
   "metadata": {},
   "outputs": [],
   "source": [
    "#Exercice 5"
   ]
  },
  {
   "cell_type": "code",
   "execution_count": 55,
   "metadata": {},
   "outputs": [
    {
     "name": "stdout",
     "output_type": "stream",
     "text": [
      "quel est votre prénom ? ines\n"
     ]
    }
   ],
   "source": [
    "prenom = input(\"quel est votre prénom ?\")"
   ]
  },
  {
   "cell_type": "code",
   "execution_count": 56,
   "metadata": {},
   "outputs": [
    {
     "name": "stdout",
     "output_type": "stream",
     "text": [
      "quel est votre nom ? majri\n"
     ]
    }
   ],
   "source": [
    "prenom = input(\"quel est votre nom ?\")"
   ]
  },
  {
   "cell_type": "code",
   "execution_count": 57,
   "metadata": {},
   "outputs": [
    {
     "data": {
      "text/plain": [
       "'ines majri'"
      ]
     },
     "execution_count": 57,
     "metadata": {},
     "output_type": "execute_result"
    }
   ],
   "source": [
    "nom_complet"
   ]
  },
  {
   "cell_type": "code",
   "execution_count": 58,
   "metadata": {},
   "outputs": [
    {
     "name": "stdout",
     "output_type": "stream",
     "text": [
      "i m\n"
     ]
    }
   ],
   "source": [
    "initiales = input(\"i m\")"
   ]
  },
  {
   "cell_type": "code",
   "execution_count": 59,
   "metadata": {},
   "outputs": [
    {
     "name": "stdout",
     "output_type": "stream",
     "text": [
      "première lettre du nom de famille M\n"
     ]
    }
   ],
   "source": [
    "prenom = input(\"première lettre du nom de famille\")"
   ]
  },
  {
   "cell_type": "code",
   "execution_count": 60,
   "metadata": {},
   "outputs": [],
   "source": [
    "# Exercice 6\n",
    "# on retape la formule"
   ]
  },
  {
   "cell_type": "code",
   "execution_count": 61,
   "metadata": {},
   "outputs": [],
   "source": [
    "# Exercice 7 "
   ]
  },
  {
   "cell_type": "code",
   "execution_count": 62,
   "metadata": {},
   "outputs": [],
   "source": [
    "A = x < y\n",
    "B = y < x\n",
    "C = z > y"
   ]
  },
  {
   "cell_type": "code",
   "execution_count": 63,
   "metadata": {},
   "outputs": [
    {
     "data": {
      "text/plain": [
       "(True, False, True)"
      ]
     },
     "execution_count": 63,
     "metadata": {},
     "output_type": "execute_result"
    }
   ],
   "source": [
    "A, B, C"
   ]
  },
  {
   "cell_type": "code",
   "execution_count": 64,
   "metadata": {},
   "outputs": [],
   "source": [
    "#boee"
   ]
  },
  {
   "cell_type": "code",
   "execution_count": 65,
   "metadata": {},
   "outputs": [],
   "source": [
    "# TD2\n",
    "# Exercice 1 \n",
    "# programme qui construit deux chaînes de caractères c_alpha et c_num"
   ]
  },
  {
   "cell_type": "code",
   "execution_count": 66,
   "metadata": {},
   "outputs": [],
   "source": [
    "c = \"X44bf38j23jdjgfjh737nei47\""
   ]
  },
  {
   "cell_type": "code",
   "execution_count": 67,
   "metadata": {},
   "outputs": [
    {
     "name": "stdout",
     "output_type": "stream",
     "text": [
      "c_num:  44382373747\n"
     ]
    }
   ],
   "source": [
    "c = \"X44bf38j23jdjgfjh737nei47\"\n",
    "\n",
    "res1 = \"\" \n",
    "\n",
    "for i in c: \n",
    "    \n",
    "    if i.isdigit(): \n",
    "        res1 = \"\".join([res1, i]) \n",
    "\n",
    "print (\"c_num: \", str(res1)) "
   ]
  },
  {
   "cell_type": "code",
   "execution_count": 68,
   "metadata": {},
   "outputs": [
    {
     "name": "stdout",
     "output_type": "stream",
     "text": [
      "c_alpha:  Xbfjjdjgfjhnei\n"
     ]
    }
   ],
   "source": [
    "c = \"X44bf38j23jdjgfjh737nei47\"\n",
    "\n",
    "res1 = \"\" \n",
    "\n",
    "for i in c: \n",
    "    \n",
    "    if i.isalpha(): \n",
    "        res1 = \"\".join([res1, i]) \n",
    "\n",
    "print (\"c_alpha: \", str(res1)) "
   ]
  },
  {
   "cell_type": "code",
   "execution_count": 69,
   "metadata": {},
   "outputs": [],
   "source": [
    "# utilisez un test conditionnel"
   ]
  },
  {
   "cell_type": "code",
   "execution_count": 70,
   "metadata": {},
   "outputs": [
    {
     "data": {
      "text/plain": [
       "True"
      ]
     },
     "execution_count": 70,
     "metadata": {},
     "output_type": "execute_result"
    }
   ],
   "source": [
    "\"c\".isalpha()"
   ]
  },
  {
   "cell_type": "code",
   "execution_count": 71,
   "metadata": {},
   "outputs": [
    {
     "data": {
      "text/plain": [
       "False"
      ]
     },
     "execution_count": 71,
     "metadata": {},
     "output_type": "execute_result"
    }
   ],
   "source": [
    "\"c\".isdigit()"
   ]
  },
  {
   "cell_type": "code",
   "execution_count": 72,
   "metadata": {},
   "outputs": [],
   "source": [
    "# Écrivez un programme qui détermine si la sous-chaîne j23 apparaît dans votre chaîne"
   ]
  },
  {
   "cell_type": "code",
   "execution_count": 73,
   "metadata": {},
   "outputs": [],
   "source": [
    "# programme qui détermine si la sous-chaîne f37 apparaît dans votre chaîne,"
   ]
  },
  {
   "cell_type": "code",
   "execution_count": 74,
   "metadata": {},
   "outputs": [
    {
     "name": "stdout",
     "output_type": "stream",
     "text": [
      "'f37': -1\n"
     ]
    }
   ],
   "source": [
    "resultat = c.find('f37')\n",
    "print (\"'f37':\", resultat )"
   ]
  },
  {
   "cell_type": "code",
   "execution_count": 75,
   "metadata": {},
   "outputs": [],
   "source": [
    "# avec str.find(), recherchez le caractère f, puis celui de 3, puis celui de 7\n",
    "# vérifiez que ces indices forment bien une suite croissante"
   ]
  },
  {
   "cell_type": "code",
   "execution_count": 76,
   "metadata": {},
   "outputs": [
    {
     "name": "stdout",
     "output_type": "stream",
     "text": [
      "'f': 4\n"
     ]
    }
   ],
   "source": [
    "resultat = c.find('f')\n",
    "print (\"'f':\", resultat )"
   ]
  },
  {
   "cell_type": "code",
   "execution_count": 77,
   "metadata": {},
   "outputs": [
    {
     "name": "stdout",
     "output_type": "stream",
     "text": [
      "'3': 5\n"
     ]
    }
   ],
   "source": [
    "resultat = c.find('3')\n",
    "print (\"'3':\", resultat )"
   ]
  },
  {
   "cell_type": "code",
   "execution_count": 78,
   "metadata": {},
   "outputs": [
    {
     "name": "stdout",
     "output_type": "stream",
     "text": [
      "'7': 17\n"
     ]
    }
   ],
   "source": [
    "resultat = c.find('7')\n",
    "print (\"'7':\", resultat )"
   ]
  },
  {
   "cell_type": "code",
   "execution_count": 79,
   "metadata": {},
   "outputs": [],
   "source": [
    "# Exercice 2"
   ]
  },
  {
   "cell_type": "code",
   "execution_count": 80,
   "metadata": {},
   "outputs": [],
   "source": [
    "texte = \"We introduce here the Python language\""
   ]
  },
  {
   "cell_type": "code",
   "execution_count": 81,
   "metadata": {},
   "outputs": [
    {
     "data": {
      "text/plain": [
       "'We introduce here the Python language'"
      ]
     },
     "execution_count": 81,
     "metadata": {},
     "output_type": "execute_result"
    }
   ],
   "source": [
    "texte"
   ]
  },
  {
   "cell_type": "code",
   "execution_count": 82,
   "metadata": {},
   "outputs": [],
   "source": [
    "# Créez un script qui compte le nombre de caractères de cette chaîne. V"
   ]
  },
  {
   "cell_type": "code",
   "execution_count": 83,
   "metadata": {},
   "outputs": [
    {
     "data": {
      "text/plain": [
       "37"
      ]
     },
     "execution_count": 83,
     "metadata": {},
     "output_type": "execute_result"
    }
   ],
   "source": [
    "len(texte)"
   ]
  },
  {
   "cell_type": "code",
   "execution_count": 84,
   "metadata": {},
   "outputs": [],
   "source": [
    "#initialisez une variable “compteur” à 0\n",
    "#Vérifiez que votre résultat corresponde bien à len(texte)"
   ]
  },
  {
   "cell_type": "code",
   "execution_count": 85,
   "metadata": {},
   "outputs": [
    {
     "name": "stdout",
     "output_type": "stream",
     "text": [
      "37\n"
     ]
    }
   ],
   "source": [
    "count = 0\n",
    "current = \"\"\n",
    "for i in \"We introduce here the Python language\":\n",
    "    count += 1\n",
    "    current += i\n",
    "    \n",
    "if current == \"We introduce here the Python language\":\n",
    "    print(count)"
   ]
  },
  {
   "cell_type": "code",
   "execution_count": 86,
   "metadata": {},
   "outputs": [],
   "source": [
    "#Créez un autre script qui compte le nombre de caractères de cette chaîne qui ne sont pas des espaces\n",
    "#test conditionnel"
   ]
  },
  {
   "cell_type": "code",
   "execution_count": 87,
   "metadata": {},
   "outputs": [
    {
     "name": "stdout",
     "output_type": "stream",
     "text": [
      "Nombre de charactere sans les espaces: 32\n"
     ]
    }
   ],
   "source": [
    "texte = \"We introduce here the Python language\";  \n",
    "count = 0;  \n",
    "   \n",
    "# Va prendre chaque charactere exeptés les espaces\n",
    "for i in range(0, len(texte)):  \n",
    "    if(texte[i] != ' '):  \n",
    "        count = count + 1;  \n",
    "\n",
    "print(\"Nombre de charactere sans les espaces: \" + str(count));  "
   ]
  },
  {
   "cell_type": "code",
   "execution_count": 88,
   "metadata": {},
   "outputs": [],
   "source": [
    "#créez un script qui compte le nombre de mots de cette chaîne. utiliser un test conditionnel."
   ]
  },
  {
   "cell_type": "code",
   "execution_count": 89,
   "metadata": {},
   "outputs": [
    {
     "name": "stdout",
     "output_type": "stream",
     "text": [
      "String to search is : \n",
      "Total Number:  1\n"
     ]
    }
   ],
   "source": [
    "string = input(\"String to search is : \")\n",
    "total = 1\n",
    "i = 0\n",
    "\n",
    "while(i < len(string)):\n",
    "   if(string[i] == ' ' or string == '\\n' or string == '\\t'):\n",
    "      total = total + 1\n",
    "   i +=1\n",
    "\n",
    "print(\"Total Number: \", total)"
   ]
  },
  {
   "cell_type": "code",
   "execution_count": 90,
   "metadata": {},
   "outputs": [],
   "source": [
    "texte2 = \"We introduce here the Python language. To learn more about the language, consider going through the excellent tutorial https://docs.python.org/ tutorial. Dedicated books are also available, such as http://www.diveintopython.net/.\""
   ]
  },
  {
   "cell_type": "code",
   "execution_count": 91,
   "metadata": {},
   "outputs": [
    {
     "data": {
      "text/plain": [
       "'We introduce here the Python language. To learn more about the language, consider going through the excellent tutorial https://docs.python.org/ tutorial. Dedicated books are also available, such as http://www.diveintopython.net/.'"
      ]
     },
     "execution_count": 91,
     "metadata": {},
     "output_type": "execute_result"
    }
   ],
   "source": [
    "texte2"
   ]
  },
  {
   "cell_type": "code",
   "execution_count": 92,
   "metadata": {},
   "outputs": [
    {
     "name": "stdout",
     "output_type": "stream",
     "text": [
      "String to search is : \n",
      "Total Number:  1\n"
     ]
    }
   ],
   "source": [
    "string = input(\"String to search is : \")\n",
    "total = 1\n",
    "i = 0\n",
    "\n",
    "while(i < len(string)):\n",
    "   if(string[i] == ' ' or string == '\\n' or string == '\\t'):\n",
    "      total = total + 1\n",
    "   i +=1\n",
    "\n",
    "print(\"Total Number: \", total)"
   ]
  },
  {
   "cell_type": "code",
   "execution_count": 93,
   "metadata": {},
   "outputs": [],
   "source": [
    "#Exercice 3"
   ]
  },
  {
   "cell_type": "code",
   "execution_count": 94,
   "metadata": {},
   "outputs": [],
   "source": [
    "liste = [\"nuages\", \"ciel\"]"
   ]
  },
  {
   "cell_type": "code",
   "execution_count": 95,
   "metadata": {},
   "outputs": [],
   "source": [
    "# nous allons rajouter un mot dans la liste avec la fonction liste.append"
   ]
  },
  {
   "cell_type": "code",
   "execution_count": 96,
   "metadata": {},
   "outputs": [],
   "source": [
    "liste.append(\"etoiles\")"
   ]
  },
  {
   "cell_type": "code",
   "execution_count": 97,
   "metadata": {},
   "outputs": [
    {
     "data": {
      "text/plain": [
       "['nuages', 'ciel', 'etoiles']"
      ]
     },
     "execution_count": 97,
     "metadata": {},
     "output_type": "execute_result"
    }
   ],
   "source": [
    "liste"
   ]
  },
  {
   "cell_type": "code",
   "execution_count": 98,
   "metadata": {},
   "outputs": [],
   "source": [
    "# nous allons trier par ordre alphabétique"
   ]
  },
  {
   "cell_type": "code",
   "execution_count": 99,
   "metadata": {},
   "outputs": [],
   "source": [
    "liste.sort()"
   ]
  },
  {
   "cell_type": "code",
   "execution_count": 100,
   "metadata": {},
   "outputs": [
    {
     "data": {
      "text/plain": [
       "['ciel', 'etoiles', 'nuages']"
      ]
     },
     "execution_count": 100,
     "metadata": {},
     "output_type": "execute_result"
    }
   ],
   "source": [
    "liste"
   ]
  },
  {
   "cell_type": "code",
   "execution_count": 101,
   "metadata": {},
   "outputs": [],
   "source": [
    "#Le processus de saisie s’arrête à FIN"
   ]
  },
  {
   "cell_type": "code",
   "execution_count": 102,
   "metadata": {},
   "outputs": [],
   "source": [
    "#Exercice 4"
   ]
  },
  {
   "cell_type": "code",
   "execution_count": 103,
   "metadata": {},
   "outputs": [],
   "source": [
    "couleurs = [\"Pique\", \"Trefle\", \"Carreau\", \"Coeur\"]\n",
    "valeurs = [2, 3, 4, 5, 6, 7, 8, 9, 10, \"valet\", \"dame\", \"roi\", \"as\"]"
   ]
  },
  {
   "cell_type": "code",
   "execution_count": 104,
   "metadata": {},
   "outputs": [],
   "source": [
    "cartes = []"
   ]
  },
  {
   "cell_type": "code",
   "execution_count": 105,
   "metadata": {},
   "outputs": [
    {
     "data": {
      "text/plain": [
       "[]"
      ]
     },
     "execution_count": 105,
     "metadata": {},
     "output_type": "execute_result"
    }
   ],
   "source": [
    "cartes"
   ]
  },
  {
   "cell_type": "code",
   "execution_count": 106,
   "metadata": {},
   "outputs": [
    {
     "name": "stdout",
     "output_type": "stream",
     "text": [
      "Pique 2\n",
      "Pique 3\n",
      "Pique 4\n",
      "Pique 5\n",
      "Pique 6\n",
      "Pique 7\n",
      "Pique 8\n",
      "Pique 9\n",
      "Pique 10\n",
      "Pique valet\n",
      "Pique dame\n",
      "Pique roi\n",
      "Pique as\n",
      "Trefle 2\n",
      "Trefle 3\n",
      "Trefle 4\n",
      "Trefle 5\n",
      "Trefle 6\n",
      "Trefle 7\n",
      "Trefle 8\n",
      "Trefle 9\n",
      "Trefle 10\n",
      "Trefle valet\n",
      "Trefle dame\n",
      "Trefle roi\n",
      "Trefle as\n",
      "Carreau 2\n",
      "Carreau 3\n",
      "Carreau 4\n",
      "Carreau 5\n",
      "Carreau 6\n",
      "Carreau 7\n",
      "Carreau 8\n",
      "Carreau 9\n",
      "Carreau 10\n",
      "Carreau valet\n",
      "Carreau dame\n",
      "Carreau roi\n",
      "Carreau as\n",
      "Coeur 2\n",
      "Coeur 3\n",
      "Coeur 4\n",
      "Coeur 5\n",
      "Coeur 6\n",
      "Coeur 7\n",
      "Coeur 8\n",
      "Coeur 9\n",
      "Coeur 10\n",
      "Coeur valet\n",
      "Coeur dame\n",
      "Coeur roi\n",
      "Coeur as\n"
     ]
    }
   ],
   "source": [
    "for c in couleurs:\n",
    "     for v in valeurs:\n",
    "       print(str(c)+\" \"+str(v))\n",
    "       cartes.append(str(c)+\" \"+str(v))\n",
    "        \n",
    "#print(c)"
   ]
  },
  {
   "cell_type": "code",
   "execution_count": 107,
   "metadata": {},
   "outputs": [
    {
     "name": "stdout",
     "output_type": "stream",
     "text": [
      "2\n",
      "3\n",
      "4\n",
      "5\n",
      "6\n",
      "7\n",
      "8\n",
      "9\n",
      "10\n",
      "valet\n",
      "dame\n",
      "roi\n",
      "as\n"
     ]
    }
   ],
   "source": [
    "for v in valeurs:\n",
    "    print(v)"
   ]
  },
  {
   "cell_type": "code",
   "execution_count": 108,
   "metadata": {},
   "outputs": [],
   "source": [
    "cartes.append(valeurs)"
   ]
  },
  {
   "cell_type": "code",
   "execution_count": 109,
   "metadata": {},
   "outputs": [],
   "source": [
    "#Exercice 7"
   ]
  },
  {
   "cell_type": "code",
   "execution_count": 110,
   "metadata": {},
   "outputs": [],
   "source": [
    "dico_translate = {'chaise' : 'chair', 'bureau' : 'desk', 'stylo' : 'pen'}"
   ]
  },
  {
   "cell_type": "code",
   "execution_count": 111,
   "metadata": {},
   "outputs": [],
   "source": [
    "#on verifie"
   ]
  },
  {
   "cell_type": "code",
   "execution_count": 112,
   "metadata": {},
   "outputs": [
    {
     "data": {
      "text/plain": [
       "{'chaise': 'chair', 'bureau': 'desk', 'stylo': 'pen'}"
      ]
     },
     "execution_count": 112,
     "metadata": {},
     "output_type": "execute_result"
    }
   ],
   "source": [
    "dico_translate"
   ]
  },
  {
   "cell_type": "code",
   "execution_count": 113,
   "metadata": {},
   "outputs": [],
   "source": [
    "#Nous allons rajouter un couple clé-valeur avec la fonction .update()"
   ]
  },
  {
   "cell_type": "code",
   "execution_count": 114,
   "metadata": {},
   "outputs": [],
   "source": [
    "dico_translate.update({'Cerveau':'Brain'})"
   ]
  },
  {
   "cell_type": "code",
   "execution_count": 115,
   "metadata": {},
   "outputs": [],
   "source": [
    "# On verifie que le couple clé-valeur est bien appliqué"
   ]
  },
  {
   "cell_type": "code",
   "execution_count": 116,
   "metadata": {},
   "outputs": [
    {
     "data": {
      "text/plain": [
       "{'chaise': 'chair', 'bureau': 'desk', 'stylo': 'pen', 'Cerveau': 'Brain'}"
      ]
     },
     "execution_count": 116,
     "metadata": {},
     "output_type": "execute_result"
    }
   ],
   "source": [
    "dico_translate"
   ]
  },
  {
   "cell_type": "code",
   "execution_count": 117,
   "metadata": {},
   "outputs": [
    {
     "data": {
      "text/plain": [
       "{'chaise': 'chair', 'bureau': 'desk', 'stylo': 'pen', 'Cerveau': 'Brain'}"
      ]
     },
     "execution_count": 117,
     "metadata": {},
     "output_type": "execute_result"
    }
   ],
   "source": [
    "dico_translate"
   ]
  },
  {
   "cell_type": "code",
   "execution_count": 118,
   "metadata": {},
   "outputs": [],
   "source": [
    "#Recherchez si votre dictionnaire contient la traduction du mot “cerveau”"
   ]
  },
  {
   "cell_type": "code",
   "execution_count": 119,
   "metadata": {},
   "outputs": [
    {
     "data": {
      "text/plain": [
       "'Brain'"
      ]
     },
     "execution_count": 119,
     "metadata": {},
     "output_type": "execute_result"
    }
   ],
   "source": [
    "dico_translate['Cerveau']"
   ]
  },
  {
   "cell_type": "code",
   "execution_count": 120,
   "metadata": {},
   "outputs": [],
   "source": [
    "#Effectuez un parcours par clés de votre dictionnaire."
   ]
  },
  {
   "cell_type": "code",
   "execution_count": 121,
   "metadata": {},
   "outputs": [
    {
     "name": "stdout",
     "output_type": "stream",
     "text": [
      "La clé chaise contient la valeur chair.\n",
      "La clé bureau contient la valeur desk.\n",
      "La clé stylo contient la valeur pen.\n",
      "La clé Cerveau contient la valeur Brain.\n"
     ]
    }
   ],
   "source": [
    ">>> dico_translate = {'chaise':'chair', 'bureau':'desk', 'stylo':'pen', 'Cerveau': 'Brain'}\n",
    ">>> for cle, valeur in dico_translate.items():\n",
    "...     print(\"La clé {} contient la valeur {}.\".format(cle, valeur))\n",
    "... "
   ]
  },
  {
   "cell_type": "code",
   "execution_count": 122,
   "metadata": {},
   "outputs": [],
   "source": [
    "#nouveau dictionnaire, utilisez un parcours clé-valeur"
   ]
  },
  {
   "cell_type": "code",
   "execution_count": 123,
   "metadata": {},
   "outputs": [
    {
     "name": "stdout",
     "output_type": "stream",
     "text": [
      "{'chair': ['chaise'], 'desk': ['bureau'], 'pen': ['stylo'], 'Brain': ['Cerveau']}\n"
     ]
    }
   ],
   "source": [
    "def creer_nouveau_dico(dico_translate):\n",
    "    nouveau_dico={}\n",
    "    \n",
    "    for key,value in dico_translate.items():\n",
    "        if value not in nouveau_dico:\n",
    "            nouveau_dico[value]=[key]\n",
    "            \n",
    "        elif key not in nouveau_dico[value]:\n",
    "            nouveau_dico[value].append(key)\n",
    "\n",
    "    return nouveau_dico\n",
    "\n",
    "print(creer_nouveau_dico(dico_translate))"
   ]
  },
  {
   "cell_type": "code",
   "execution_count": 124,
   "metadata": {},
   "outputs": [],
   "source": [
    "# 7.6 Recherchez si votre dictionnaire contient la traduction du mot “brain”."
   ]
  },
  {
   "cell_type": "code",
   "execution_count": 125,
   "metadata": {},
   "outputs": [
    {
     "data": {
      "text/plain": [
       "['Cerveau']"
      ]
     },
     "execution_count": 125,
     "metadata": {},
     "output_type": "execute_result"
    }
   ],
   "source": [
    "(creer_nouveau_dico(dico_translate))['Brain']"
   ]
  },
  {
   "cell_type": "code",
   "execution_count": 126,
   "metadata": {},
   "outputs": [],
   "source": [
    "# 7.6 Afficher sa cle correspondante"
   ]
  },
  {
   "cell_type": "code",
   "execution_count": 127,
   "metadata": {},
   "outputs": [
    {
     "name": "stdout",
     "output_type": "stream",
     "text": [
      "La clé Cerveau contient la valeur Brain.\n"
     ]
    }
   ],
   "source": [
    ">>> dico_translate = {'Cerveau': 'Brain'}\n",
    ">>> for cle, valeur in dico_translate.items():\n",
    "...     print(\"La clé {} contient la valeur {}.\".format(cle, valeur))\n",
    "... "
   ]
  },
  {
   "cell_type": "code",
   "execution_count": 128,
   "metadata": {},
   "outputs": [],
   "source": [
    "# 7.7  Modifiez votre dictionnaire de départ de sorte que les valeurs ne soient plus des simples mots\n",
    "#anglais, mais des listes de mots correspondant à autant de traductions possibles de vos clés"
   ]
  },
  {
   "cell_type": "code",
   "execution_count": 129,
   "metadata": {},
   "outputs": [
    {
     "data": {
      "text/plain": [
       "{'Dico_translate': {'cerveau': 'brain'},\n",
       " 'Dico_translate2': {'cerveau': 'cerebro'},\n",
       " 'Dico_translate3': {'cerveau': 'beyin'}}"
      ]
     },
     "execution_count": 129,
     "metadata": {},
     "output_type": "execute_result"
    }
   ],
   "source": [
    "{'Dico_translate': {'cerveau': 'brain'}, 'Dico_translate2': {'cerveau': 'cerebro'}, \n",
    " 'Dico_translate3': {'cerveau': 'beyin'}}"
   ]
  },
  {
   "cell_type": "code",
   "execution_count": 130,
   "metadata": {},
   "outputs": [],
   "source": [
    "Dico_translate = { 'Dict1': {'cerveau': 'brain'}, \n",
    "         'Dict2': {'cerveau': 'cerebro'},\n",
    "         'Dict3': {'cerveau': 'beyin'}}"
   ]
  },
  {
   "cell_type": "code",
   "execution_count": 131,
   "metadata": {},
   "outputs": [
    {
     "name": "stdout",
     "output_type": "stream",
     "text": [
      "brain\n",
      "cerebro\n",
      "beyin\n"
     ]
    }
   ],
   "source": [
    "print(Dico_translate['Dict1']['cerveau'])\n",
    "print(Dico_translate['Dict2']['cerveau']) \n",
    "print(Dico_translate['Dict3']['cerveau']) "
   ]
  },
  {
   "cell_type": "code",
   "execution_count": 132,
   "metadata": {},
   "outputs": [],
   "source": [
    "# 7.8 Ajouter à votre nouveaux dictionnaire le couple clé-valeur \"chemin\" : [\"path\", \"way\"]."
   ]
  },
  {
   "cell_type": "code",
   "execution_count": 133,
   "metadata": {},
   "outputs": [],
   "source": [
    "dico_translate = {'chair': ['chaise'], 'desk': ['bureau'], 'pen': ['stylo'], 'chemin': 'path'}"
   ]
  },
  {
   "cell_type": "code",
   "execution_count": 134,
   "metadata": {},
   "outputs": [
    {
     "data": {
      "text/plain": [
       "{'chair': ['chaise'], 'desk': ['bureau'], 'pen': ['stylo'], 'chemin': 'path'}"
      ]
     },
     "execution_count": 134,
     "metadata": {},
     "output_type": "execute_result"
    }
   ],
   "source": [
    "dico_translate"
   ]
  },
  {
   "cell_type": "code",
   "execution_count": 135,
   "metadata": {},
   "outputs": [],
   "source": [
    "#7.9. Recherchez la deuxième traduction du mot “chemin”"
   ]
  },
  {
   "cell_type": "code",
   "execution_count": 136,
   "metadata": {},
   "outputs": [],
   "source": [
    "Dico_translate = { 'Dict4': {'chemin': 'path'}}"
   ]
  },
  {
   "cell_type": "code",
   "execution_count": 137,
   "metadata": {},
   "outputs": [
    {
     "name": "stdout",
     "output_type": "stream",
     "text": [
      "path\n"
     ]
    }
   ],
   "source": [
    "print(Dico_translate['Dict4']['chemin'])"
   ]
  },
  {
   "cell_type": "code",
   "execution_count": 138,
   "metadata": {},
   "outputs": [],
   "source": [
    "# 7.10. Effacez la clé “chemin” et sa valeur correspondante de votre dictionnaire (fonction del)."
   ]
  },
  {
   "cell_type": "code",
   "execution_count": 139,
   "metadata": {},
   "outputs": [
    {
     "name": "stdout",
     "output_type": "stream",
     "text": [
      "Initial nested dictionary:-\n",
      "{'Dict1': {'cerveau': 'beyin'}, 'Dict2': {'chemin': 'way'}}\n",
      "\n",
      "Deleting Dict2:-\n",
      "{'Dict1': {'cerveau': 'beyin'}}\n"
     ]
    }
   ],
   "source": [
    "Dict = {'Dict1': {'cerveau': 'brain', 'cerveau': 'cerebro', 'cerveau': 'beyin' }, \n",
    "        'Dict2': {'chemin': 'path', 'chemin': 'way'}} \n",
    "print(\"Initial nested dictionary:-\") \n",
    "print(Dict) \n",
    "  \n",
    "\n",
    "print(\"\\nDeleting Dict2:-\") \n",
    "del Dict['Dict2'] \n",
    "print(Dict) \n",
    "  "
   ]
  },
  {
   "cell_type": "code",
   "execution_count": 140,
   "metadata": {},
   "outputs": [
    {
     "data": {
      "text/plain": [
       "{'Dict1': {'cerveau': 'beyin'}}"
      ]
     },
     "execution_count": 140,
     "metadata": {},
     "output_type": "execute_result"
    }
   ],
   "source": [
    "Dict "
   ]
  },
  {
   "cell_type": "code",
   "execution_count": 141,
   "metadata": {},
   "outputs": [],
   "source": [
    "#Exercice 8"
   ]
  },
  {
   "cell_type": "code",
   "execution_count": 142,
   "metadata": {},
   "outputs": [],
   "source": [
    "# 8.1"
   ]
  },
  {
   "cell_type": "code",
   "execution_count": 143,
   "metadata": {},
   "outputs": [],
   "source": [
    "mon_dico :('alia', 'amy')"
   ]
  },
  {
   "cell_type": "code",
   "execution_count": 144,
   "metadata": {},
   "outputs": [
    {
     "name": "stdout",
     "output_type": "stream",
     "text": [
      "Entrer votre prenom ? alia\n",
      "Entrer votre nom ?marty\n",
      "Entrer votre matricule ?D017\n"
     ]
    }
   ],
   "source": [
    "prenom = input(\"Entrer votre prenom ?\")\n",
    "nom = input(\"Entrer votre nom ?\")\n",
    "matricule = input(\"Entrer votre matricule ?\")"
   ]
  },
  {
   "cell_type": "code",
   "execution_count": 145,
   "metadata": {},
   "outputs": [
    {
     "name": "stdout",
     "output_type": "stream",
     "text": [
      "Entrer votre prenom ?amy\n",
      "Entrer votre nom ?casty\n",
      "Entrer votre matricule ?D018\n"
     ]
    }
   ],
   "source": [
    "prenom2 = input(\"Entrer votre prenom ?\")\n",
    "nom2 = input(\"Entrer votre nom ?\")\n",
    "matricule2 = input(\"Entrer votre matricule ?\")"
   ]
  },
  {
   "cell_type": "code",
   "execution_count": 146,
   "metadata": {},
   "outputs": [],
   "source": [
    "# Dans un dictionnaire\n",
    "#etudiant 1"
   ]
  },
  {
   "cell_type": "code",
   "execution_count": 147,
   "metadata": {},
   "outputs": [
    {
     "name": "stdout",
     "output_type": "stream",
     "text": [
      "Entrer votre prenom ?alia\n",
      "Entrer votre nom ?marty\n",
      "Entrer votre matricule ?D017\n"
     ]
    }
   ],
   "source": [
    "mon_dico : prenom = input(\"Entrer votre prenom ?\")\n",
    "nom = input(\"Entrer votre nom ?\")\n",
    "matricule = input(\"Entrer votre matricule ?\")"
   ]
  },
  {
   "cell_type": "code",
   "execution_count": 148,
   "metadata": {},
   "outputs": [
    {
     "data": {
      "text/plain": [
       "'alia'"
      ]
     },
     "execution_count": 148,
     "metadata": {},
     "output_type": "execute_result"
    }
   ],
   "source": [
    "mon_dico"
   ]
  },
  {
   "cell_type": "code",
   "execution_count": 149,
   "metadata": {},
   "outputs": [],
   "source": [
    "# Dans un dictionnaire\n",
    "#etudiant 2"
   ]
  },
  {
   "cell_type": "code",
   "execution_count": 150,
   "metadata": {},
   "outputs": [
    {
     "name": "stdout",
     "output_type": "stream",
     "text": [
      "Entrer votre prenom ?amy\n",
      "Entrer votre nom ?casty\n",
      "Entrer votre matricule ?D018\n"
     ]
    }
   ],
   "source": [
    "mon_dico : prenom2 = input(\"Entrer votre prenom ?\")\n",
    "nom2 = input(\"Entrer votre nom ?\")\n",
    "matricule2 = input(\"Entrer votre matricule ?\")"
   ]
  },
  {
   "cell_type": "code",
   "execution_count": 151,
   "metadata": {},
   "outputs": [
    {
     "data": {
      "text/plain": [
       "'amy'"
      ]
     },
     "execution_count": 151,
     "metadata": {},
     "output_type": "execute_result"
    }
   ],
   "source": [
    "mon_dico"
   ]
  },
  {
   "cell_type": "code",
   "execution_count": 152,
   "metadata": {},
   "outputs": [],
   "source": [
    "#8.2 "
   ]
  },
  {
   "cell_type": "code",
   "execution_count": 153,
   "metadata": {},
   "outputs": [],
   "source": [
    ">>> mon_dico = []\n",
    ">>> for i in mon_dico:\n",
    "...     if i > ...:\n",
    "...             print(\"On stoppe la boucle\")\n",
    "...             break\n",
    "...     print(i)"
   ]
  },
  {
   "cell_type": "code",
   "execution_count": 154,
   "metadata": {},
   "outputs": [],
   "source": [
    "#8.3"
   ]
  },
  {
   "cell_type": "code",
   "execution_count": 155,
   "metadata": {},
   "outputs": [],
   "source": [
    "for alia in mon_dico :\n",
    "    print (alia)"
   ]
  },
  {
   "cell_type": "code",
   "execution_count": 156,
   "metadata": {},
   "outputs": [],
   "source": [
    "#8.4 déterminer si un étudiant du nom de “Obama” appartient à votre dictionnaire,"
   ]
  },
  {
   "cell_type": "code",
   "execution_count": 157,
   "metadata": {},
   "outputs": [],
   "source": [
    ">>> if \"obama\" in mon_dico:\n",
    "...     print(\"La clé 'obama' existe pour mon_dico\")"
   ]
  },
  {
   "cell_type": "code",
   "execution_count": null,
   "metadata": {},
   "outputs": [],
   "source": []
  },
  {
   "cell_type": "code",
   "execution_count": 158,
   "metadata": {},
   "outputs": [],
   "source": [
    "#TD3\n",
    "#Exercice 1\n",
    "# 1.1"
   ]
  },
  {
   "cell_type": "code",
   "execution_count": 159,
   "metadata": {},
   "outputs": [
    {
     "name": "stdout",
     "output_type": "stream",
     "text": [
      "Entrer un chiffre?5\n"
     ]
    }
   ],
   "source": [
    "entier = input(\"Entrer un chiffre?\")"
   ]
  },
  {
   "cell_type": "code",
   "execution_count": 160,
   "metadata": {},
   "outputs": [
    {
     "name": "stdout",
     "output_type": "stream",
     "text": [
      "Quelle table de multiplication voulez vous afficher? :5\n"
     ]
    }
   ],
   "source": [
    "a=int(input(\"Quelle table de multiplication voulez vous afficher? :\"))"
   ]
  },
  {
   "cell_type": "code",
   "execution_count": 161,
   "metadata": {},
   "outputs": [
    {
     "name": "stdout",
     "output_type": "stream",
     "text": [
      "Quelle table de multiplication voullez vous afficher?5\n",
      "1 * 5 = 5\n",
      "2 * 5 = 10\n",
      "3 * 5 = 15\n",
      "4 * 5 = 20\n",
      "5 * 5 = 25\n",
      "6 * 5 = 30\n",
      "7 * 5 = 35\n",
      "8 * 5 = 40\n",
      "9 * 5 = 45\n",
      "10 * 5 = 50\n"
     ]
    }
   ],
   "source": [
    "orep=''\n",
    "\n",
    "orep=int(input(\"Quelle table de multiplication voullez vous afficher?\"))\n",
    "\n",
    "i=1\n",
    "\n",
    "for i in range(0, 10):\n",
    "\n",
    "   i+=1\n",
    "\n",
    "   print (i, \"*\", orep, \"=\", i*orep)"
   ]
  },
  {
   "cell_type": "code",
   "execution_count": 162,
   "metadata": {},
   "outputs": [],
   "source": [
    "#1.2"
   ]
  },
  {
   "cell_type": "code",
   "execution_count": 163,
   "metadata": {},
   "outputs": [
    {
     "name": "stdout",
     "output_type": "stream",
     "text": [
      "Quelle table de multiplication voullez vous afficher?5\n",
      "1 * 5 = 5 2 * 5 = 10 3 * 5 = 15 4 * 5 = 20 5 * 5 = 25 6 * 5 = 30 7 * 5 = 35 8 * 5 = 40 9 * 5 = 45 10 * 5 = 50 "
     ]
    }
   ],
   "source": [
    "orep=''\n",
    "\n",
    "orep=int(input(\"Quelle table de multiplication voullez vous afficher?\"))\n",
    "\n",
    "i=1\n",
    "\n",
    "for i in range(0, 10):\n",
    "\n",
    "   i+=1\n",
    "\n",
    "   print (i, \"*\", orep, \"=\", i*orep, end=' '), "
   ]
  },
  {
   "cell_type": "code",
   "execution_count": 164,
   "metadata": {},
   "outputs": [],
   "source": [
    "#1.3"
   ]
  },
  {
   "cell_type": "code",
   "execution_count": 165,
   "metadata": {},
   "outputs": [],
   "source": [
    "chiffre = [1, 2, 3, 4, 5, 6, 7, 8, 9, 10] \n",
    "mult = [1,]\n",
    "mult2 = [2,]\n",
    "mult3 = [3,]\n",
    "mult4 = [4,]\n",
    "mult5 = [5,]\n"
   ]
  },
  {
   "cell_type": "code",
   "execution_count": 166,
   "metadata": {},
   "outputs": [
    {
     "name": "stdout",
     "output_type": "stream",
     "text": [
      "\t\t\t\t=== Multiplication de 1, 2, 3, 4, 5  ===\n",
      "\n",
      "\n",
      "1*1 = 1 2*1 = 2 3*1 = 3 4*1 = 4 5*1 = 5 6*1 = 6 7*1 = 7 8*1 = 8 9*1 = 9 10*1 = 10 1*2 = 2 2*2 = 4 3*2 = 6 4*2 = 8 5*2 = 10 6*2 = 12 7*2 = 14 8*2 = 16 9*2 = 18 10*2 = 20 1*3 = 3 2*3 = 6 3*3 = 9 4*3 = 12 5*3 = 15 6*3 = 18 7*3 = 21 8*3 = 24 9*3 = 27 10*3 = 30 1*4 = 4 2*4 = 8 3*4 = 12 4*4 = 16 5*4 = 20 6*4 = 24 7*4 = 28 8*4 = 32 9*4 = 36 10*4 = 40 1*5 = 5 2*5 = 10 3*5 = 15 4*5 = 20 5*5 = 25 6*5 = 30 7*5 = 35 8*5 = 40 9*5 = 45 10*5 = 50 "
     ]
    }
   ],
   "source": [
    "print(\"\\t\\t\\t\\t=== Multiplication de 1, 2, 3, 4, 5  ===\\n\\n\")\n",
    " \n",
    "for c in chiffre:\n",
    "     for m in mult:\n",
    "        print(str(c)+\"*\"+str(m),\"=\", c*m, end=' ')\n",
    "        cartes.append(str(c)+\" \"+str(m)) \n",
    "        \n",
    "for c in chiffre:\n",
    "     for m in mult2:\n",
    "        print(str(c)+\"*\"+str(m),\"=\", c*m, end=' ')\n",
    "        cartes.append(str(c)+\" \"+str(m)) \n",
    "\n",
    "for c in chiffre:\n",
    "     for m in mult3:\n",
    "        print(str(c)+\"*\"+str(m),\"=\", c*m, end=' ')\n",
    "        cartes.append(str(c)+\" \"+str(m)) \n",
    "        \n",
    "for c in chiffre:\n",
    "     for m in mult4:\n",
    "        print(str(c)+\"*\"+str(m),\"=\", c*m, end=' ')\n",
    "        cartes.append(str(c)+\" \"+str(m)) \n",
    "        \n",
    "for c in chiffre:\n",
    "     for m in mult5:\n",
    "        print(str(c)+\"*\"+str(m),\"=\", c*m, end=' ')\n",
    "        cartes.append(str(c)+\" \"+str(m)) \n",
    "      "
   ]
  },
  {
   "cell_type": "code",
   "execution_count": 167,
   "metadata": {},
   "outputs": [],
   "source": [
    "#1.4"
   ]
  },
  {
   "cell_type": "code",
   "execution_count": 168,
   "metadata": {},
   "outputs": [
    {
     "name": "stdout",
     "output_type": "stream",
     "text": [
      "Entrer un chiffre?5\n"
     ]
    }
   ],
   "source": [
    "entier = input(\"Entrer un chiffre?\")"
   ]
  },
  {
   "cell_type": "code",
   "execution_count": 169,
   "metadata": {},
   "outputs": [
    {
     "name": "stdout",
     "output_type": "stream",
     "text": [
      "donner n5\n",
      "\n",
      "*\n",
      "**\n",
      "***\n",
      "****\n"
     ]
    }
   ],
   "source": [
    "n=int(input('donner n'))\n",
    "for x in range(0,n):\n",
    "    print (x*\"*\")"
   ]
  },
  {
   "cell_type": "code",
   "execution_count": 170,
   "metadata": {},
   "outputs": [],
   "source": [
    "#1.5"
   ]
  },
  {
   "cell_type": "code",
   "execution_count": 171,
   "metadata": {
    "scrolled": true
   },
   "outputs": [
    {
     "name": "stdout",
     "output_type": "stream",
     "text": [
      "donner n6\n",
      "\n",
      "*\n",
      "**\n",
      "***\n",
      "****\n",
      "*****\n",
      "donner n5\n",
      "*****\n",
      "****\n",
      "***\n",
      "**\n",
      "*\n"
     ]
    }
   ],
   "source": [
    "n=int(input('donner n'))\n",
    "for x in range(0,n):\n",
    "    print (x*\"*\")\n",
    "    \n",
    "n=int(input('donner n'))\n",
    "for x in range(n,0,-1):\n",
    "    print (x*\"*\")"
   ]
  },
  {
   "cell_type": "code",
   "execution_count": 172,
   "metadata": {},
   "outputs": [
    {
     "name": "stdout",
     "output_type": "stream",
     "text": [
      "        * \r\n",
      "       * * \r\n",
      "      * * * \r\n",
      "     * * * * \r\n",
      "    * * * * * \r\n"
     ]
    }
   ],
   "source": [
    "def triangle(n): \n",
    "    k = 2*n - 2\n",
    "    for i in range(0, n):  \n",
    "        for j in range(0, k): \n",
    "            print(end=\" \") \n",
    "        k = k - 1\n",
    "        for j in range(0, i+1):\n",
    "            print(\"* \", end=\"\") \n",
    "        print(\"\\r\") \n",
    "  \n",
    "n = 5\n",
    "triangle(5) "
   ]
  },
  {
   "cell_type": "code",
   "execution_count": 173,
   "metadata": {},
   "outputs": [],
   "source": [
    "#EXERCICE 2"
   ]
  },
  {
   "cell_type": "code",
   "execution_count": 174,
   "metadata": {},
   "outputs": [],
   "source": [
    "jours = [31, 28, 31, 30, 31, 30, 31, 31, 30, 31, 30, 31]\n",
    "mois = [\"January\", \"February\", \"March\", \"April\", \"May\", \"June\", \"July\", \"August\", \"September\", \n",
    "        \"October\", \"November\", \"December\"]"
   ]
  },
  {
   "cell_type": "code",
   "execution_count": 175,
   "metadata": {},
   "outputs": [],
   "source": [
    "Date = [(\"January\", 31), (\"February\", 28), (\"March\", 31), (\"April\", 30), (\"May\", 31), (\"June\", 30), \n",
    "        (\"July\", 31), (\"August\", 31), (\"September\", 30), (\"October\", 31), (\"November\", 30), (\"December\", 31)]"
   ]
  },
  {
   "cell_type": "code",
   "execution_count": 176,
   "metadata": {},
   "outputs": [],
   "source": [
    "for i in range(max((len(jours),len(mois)))):\n",
    "       while True:\n",
    "           try:\n",
    "               card = (jours[i],mois[i])\n",
    "           except IndexError:\n",
    "               if len(31)>len(12):\n",
    "                   mois_c.append('')\n",
    "                   card = (jours[i],mois[i])\n",
    "               elif len(31)<len(12):\n",
    "                   jours.append('')\n",
    "                   card = (jours[i], mois[i])\n",
    "               continue\n",
    "           Date.append(card)\n",
    "           break"
   ]
  },
  {
   "cell_type": "code",
   "execution_count": 177,
   "metadata": {},
   "outputs": [
    {
     "data": {
      "text/plain": [
       "[('January', 31),\n",
       " ('February', 28),\n",
       " ('March', 31),\n",
       " ('April', 30),\n",
       " ('May', 31),\n",
       " ('June', 30),\n",
       " ('July', 31),\n",
       " ('August', 31),\n",
       " ('September', 30),\n",
       " ('October', 31),\n",
       " ('November', 30),\n",
       " ('December', 31),\n",
       " (31, 'January'),\n",
       " (28, 'February'),\n",
       " (31, 'March'),\n",
       " (30, 'April'),\n",
       " (31, 'May'),\n",
       " (30, 'June'),\n",
       " (31, 'July'),\n",
       " (31, 'August'),\n",
       " (30, 'September'),\n",
       " (31, 'October'),\n",
       " (30, 'November'),\n",
       " (31, 'December')]"
      ]
     },
     "execution_count": 177,
     "metadata": {},
     "output_type": "execute_result"
    }
   ],
   "source": [
    "Date"
   ]
  },
  {
   "cell_type": "code",
   "execution_count": 178,
   "metadata": {},
   "outputs": [],
   "source": [
    "jours_semaine = [\"Monday\", \"Tueday\", \"Wednesday\", \"Thursday\", \"Friday\", \"Saturday\", \"Sunday\"]"
   ]
  },
  {
   "cell_type": "code",
   "execution_count": 179,
   "metadata": {},
   "outputs": [],
   "source": [
    "annee2 = [\"Monday 1 January\", \"Tuesday 2 January\", \"Wednesday 3 January\", \"Thursday 4 January\"]"
   ]
  },
  {
   "cell_type": "code",
   "execution_count": 180,
   "metadata": {},
   "outputs": [],
   "source": [
    "#Exercice 3"
   ]
  },
  {
   "cell_type": "code",
   "execution_count": 181,
   "metadata": {},
   "outputs": [
    {
     "name": "stdout",
     "output_type": "stream",
     "text": [
      "Entrer une note entre 0 et 20 ?5\n"
     ]
    }
   ],
   "source": [
    "entier = input(\"Entrer une note entre 0 et 20 ?\")"
   ]
  },
  {
   "cell_type": "code",
   "execution_count": 182,
   "metadata": {},
   "outputs": [
    {
     "name": "stdout",
     "output_type": "stream",
     "text": [
      "Entrer une note entre 0 et 20 ?13\n"
     ]
    }
   ],
   "source": [
    "entier = input(\"Entrer une note entre 0 et 20 ?\")"
   ]
  },
  {
   "cell_type": "code",
   "execution_count": 183,
   "metadata": {},
   "outputs": [
    {
     "name": "stdout",
     "output_type": "stream",
     "text": [
      "Entrer une note entre 0 et 20 ?17\n"
     ]
    }
   ],
   "source": [
    "entier = input(\"Entrer une note entre 0 et 20 ?\")"
   ]
  },
  {
   "cell_type": "code",
   "execution_count": 184,
   "metadata": {},
   "outputs": [],
   "source": [
    "notes = [5, 13, 17]"
   ]
  },
  {
   "cell_type": "code",
   "execution_count": 185,
   "metadata": {},
   "outputs": [
    {
     "data": {
      "text/plain": [
       "[5, 13, 17]"
      ]
     },
     "execution_count": 185,
     "metadata": {},
     "output_type": "execute_result"
    }
   ],
   "source": [
    "notes"
   ]
  },
  {
   "cell_type": "code",
   "execution_count": 186,
   "metadata": {},
   "outputs": [],
   "source": [
    "notes = [5, 13, 17]\n",
    "current_max = notes[0]\n",
    "for elem in notes[1:]:\n",
    "    if elem > current_max:\n",
    "        current_max = elem"
   ]
  },
  {
   "cell_type": "code",
   "execution_count": 187,
   "metadata": {},
   "outputs": [],
   "source": [
    "#le max"
   ]
  },
  {
   "cell_type": "code",
   "execution_count": null,
   "metadata": {},
   "outputs": [],
   "source": [
    "    while notes:\n",
    "     notes=[5, 13, 17]\n",
    "    max=0\n",
    "    i=0\n",
    "    while i<len(notes):\n",
    "         if notes[i]>=max:\n",
    "             max=notes[i]\n",
    "         i=i+1\n",
    "     \n",
    "    print (max)"
   ]
  },
  {
   "cell_type": "code",
   "execution_count": null,
   "metadata": {},
   "outputs": [],
   "source": [
    "#le min"
   ]
  },
  {
   "cell_type": "code",
   "execution_count": null,
   "metadata": {},
   "outputs": [],
   "source": [
    "    notes = [5,13,17]\n",
    "    min(notes)"
   ]
  },
  {
   "cell_type": "code",
   "execution_count": null,
   "metadata": {},
   "outputs": [],
   "source": [
    "#Exercice 4"
   ]
  },
  {
   "cell_type": "code",
   "execution_count": null,
   "metadata": {},
   "outputs": [],
   "source": [
    "import os\n",
    "\n",
    "from random import randint\n",
    " \n",
    "\n",
    "nombrePropose = 0\n",
    " \n",
    "\n",
    "print(\"\\t\\t\\t\\t=== PLUS HAUT PLUS BAS ===\\n\\n\")\n",
    " \n",
    "\n",
    "nombreHasard = randint(1, 100)\n",
    " \n",
    "\n",
    "while nombrePropose != nombreHasard:\n",
    "     \n",
    "    print(\"Quel est le nombre ?\")\n",
    " \n",
    "  \n",
    "    nombrePropose = input()\n",
    "    nombrePropose = int(nombrePropose)\n",
    " \n",
    "\n",
    "    if nombrePropose < nombreHasard:\n",
    "        print(\"PLUS HAUT !\\n\")\n",
    "\n",
    "        \n",
    "    elif nombrePropose > nombreHasard:\n",
    "        print(\"PLUS PETIT!\\n\")\n",
    " \n",
    "   \n",
    "    else:\n",
    "        print(\"Félicitations, vous avez trouvé le nombre mystère !!!\\n\")\n",
    " \n",
    "\n",
    "os.system(\"pause\")\n",
    " \n"
   ]
  },
  {
   "cell_type": "code",
   "execution_count": null,
   "metadata": {},
   "outputs": [],
   "source": []
  }
 ],
 "metadata": {
  "kernelspec": {
   "display_name": "Python 3",
   "language": "python",
   "name": "python3"
  },
  "language_info": {
   "codemirror_mode": {
    "name": "ipython",
    "version": 3
   },
   "file_extension": ".py",
   "mimetype": "text/x-python",
   "name": "python",
   "nbconvert_exporter": "python",
   "pygments_lexer": "ipython3",
   "version": "3.7.4"
  }
 },
 "nbformat": 4,
 "nbformat_minor": 2
}
